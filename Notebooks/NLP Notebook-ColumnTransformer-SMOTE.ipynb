{
 "cells": [
  {
   "cell_type": "markdown",
   "metadata": {},
   "source": [
    "# NLP Tweet Analysis  \n",
    "### Will Byrd June 2024  \n",
    "## Introduction  \n",
    "In this NLP project, we will explore preprocesing of text data and sophisticated White Box modeling apporaches to determine the **sentiment** of tweets.  We can tell based on a quick review of the dataset that these are tweets made from attendees to South by Southwest or SXSW.  For context, SWSW is conference that celebrates technology and arts.  From a business perspective, we have been tasked with determining which brands are were rated most favorably so SXSW will know who to allocate resources to vendors next year.\n",
    "  \n",
    "  \n",
    "In this notebook, we will use preprocessing tools such as:   \n",
    "  \n",
    "* regex - text data cleaning tool\n",
    "* stemming - stripping affixes from words-leaving base forms\n",
    "* lemmatization - ensuring the output word is a normalized version of the word\n",
    "* label encoding - converting categorical variables into numerical format\n",
    "* imputing - correcting NaNs\n",
    "* tokenization - splitting text into smaller units such as words or bigrams/trigrams\n",
    "* vectorization - converting text into numerical representations for modeling  \n",
    "  \n",
    "    \n",
    "## Data  \n",
    "Our analysis will be performed on a csv file from CrowdFlower via data.world.  This file contains over 9000 tweets that have been rated by humans to be positive, negative, or nuetral.  We also have insight into which brand or product is being targeted by each tweet ('emotion_in_tweet_is_directed_at') that can be analyzed during our EDA.  Ultimately, we will end with 3 features that we will use to predict sentiment:\n",
    "\n",
    "* pos_tagged_text - strings of tokenized text with parts of speech labelled to each word\n",
    "* bigrams - a column containing all bigrams (pairs of words) \n",
    "* trigrams - a column containing all trigrams (words occuring in groups of 3)  \n",
    "\n",
    "\n",
    "## Goals\n",
    "Our goal will be to build a model that can most accurately predict **Sentiment** of these tweets as it relates to specific brands.  Sentiment will be encoded to have a score between 1-3:\n",
    "\n",
    "1 negative  \n",
    "2 indifferent  \n",
    "3 positive  \n",
    "\n",
    "Since we already have a robust dataset with **Sentiment** (originally laballed as 'is_there_an_emotion_directed_at_a_brand_or_product'), we will build a supervised learning model using this df for training and testing. \n",
    "  \n",
    "   \n",
    "## Overview  \n",
    "Let's take a look at the data to better understand what we need to do to the text data to analyze and model it.  Imputing the brand column that is labelled 'emotion_in_tweet_is_directed_at' will also be important to improve the sample size and power of our results.  We will build a variety of models:  \n",
    "\n",
    "* Logistic Regression Model\n",
    "* Decision Tree Classifier  \n",
    "* K-Nearest Neighbors\n",
    "* Gradient Boosting\n",
    "  \n",
    "After building these models and finetuning results, Stacking and Voting Ensemble methods are then used to further improve our models.  This is a costly process and takes our machine quite some time to run, but it ensures our results are optimal."
   ]
  },
  {
   "cell_type": "markdown",
   "metadata": {},
   "source": [
    "Importing all of the necessary libraries."
   ]
  },
  {
   "cell_type": "code",
   "execution_count": 1,
   "metadata": {},
   "outputs": [
    {
     "name": "stderr",
     "output_type": "stream",
     "text": [
      "[nltk_data] Downloading package punkt to\n",
      "[nltk_data]     C:\\Users\\byrdw\\AppData\\Roaming\\nltk_data...\n",
      "[nltk_data]   Package punkt is already up-to-date!\n",
      "[nltk_data] Downloading package averaged_perceptron_tagger to\n",
      "[nltk_data]     C:\\Users\\byrdw\\AppData\\Roaming\\nltk_data...\n",
      "[nltk_data]   Package averaged_perceptron_tagger is already up-to-\n",
      "[nltk_data]       date!\n"
     ]
    }
   ],
   "source": [
    "import pandas as pd\n",
    "import re\n",
    "import numpy as np\n",
    "import nltk\n",
    "import seaborn as sns\n",
    "from sklearn.preprocessing import LabelEncoder, StandardScaler, OneHotEncoder, Normalizer\n",
    "from sklearn.model_selection import train_test_split, GridSearchCV\n",
    "from sklearn.tree import DecisionTreeClassifier\n",
    "from sklearn.feature_extraction.text import TfidfVectorizer, CountVectorizer\n",
    "from sklearn.linear_model import LogisticRegression\n",
    "from sklearn.metrics import accuracy_score, classification_report, confusion_matrix, ConfusionMatrixDisplay\n",
    "from sklearn.compose import ColumnTransformer\n",
    "from sklearn.neighbors import KNeighborsClassifier\n",
    "from sklearn.ensemble import StackingClassifier, GradientBoostingClassifier, VotingClassifier\n",
    "from sklearn.pipeline import Pipeline\n",
    "from imblearn.over_sampling import SMOTE\n",
    "from imblearn.under_sampling import RandomUnderSampler\n",
    "from nltk.corpus import stopwords\n",
    "from nltk.stem import WordNetLemmatizer\n",
    "from mpl_toolkits.mplot3d import Axes3D\n",
    "import matplotlib.pyplot as plt\n",
    "%matplotlib inline\n",
    "from sklearn.manifold import TSNE\n",
    "from nltk.tokenize import word_tokenize\n",
    "from nltk.corpus import stopwords\n",
    "from nltk.stem import WordNetLemmatizer\n",
    "from nltk.stem import PorterStemmer\n",
    "from nltk.util import ngrams\n",
    "from collections import Counter\n",
    "nltk.download('punkt')\n",
    "nltk.download('averaged_perceptron_tagger')\n",
    "nltk.download('punkt', quiet=True)\n",
    "np.random.seed(0)\n",
    "from mlxtend.plotting import plot_decision_regions\n"
   ]
  },
  {
   "cell_type": "code",
   "execution_count": 2,
   "metadata": {
    "scrolled": true
   },
   "outputs": [],
   "source": [
    "#pip install -U imbalanced-learn\n"
   ]
  },
  {
   "cell_type": "markdown",
   "metadata": {},
   "source": [
    "Reading in the csv tweets.csv to inspect specific rows and columns."
   ]
  },
  {
   "cell_type": "code",
   "execution_count": 3,
   "metadata": {
    "scrolled": true
   },
   "outputs": [
    {
     "data": {
      "text/html": [
       "<div>\n",
       "<style scoped>\n",
       "    .dataframe tbody tr th:only-of-type {\n",
       "        vertical-align: middle;\n",
       "    }\n",
       "\n",
       "    .dataframe tbody tr th {\n",
       "        vertical-align: top;\n",
       "    }\n",
       "\n",
       "    .dataframe thead th {\n",
       "        text-align: right;\n",
       "    }\n",
       "</style>\n",
       "<table border=\"1\" class=\"dataframe\">\n",
       "  <thead>\n",
       "    <tr style=\"text-align: right;\">\n",
       "      <th></th>\n",
       "      <th>tweet_text</th>\n",
       "      <th>emotion_in_tweet_is_directed_at</th>\n",
       "      <th>is_there_an_emotion_directed_at_a_brand_or_product</th>\n",
       "    </tr>\n",
       "  </thead>\n",
       "  <tbody>\n",
       "    <tr>\n",
       "      <th>0</th>\n",
       "      <td>.@wesley83 I have a 3G iPhone. After 3 hrs twe...</td>\n",
       "      <td>iPhone</td>\n",
       "      <td>Negative emotion</td>\n",
       "    </tr>\n",
       "    <tr>\n",
       "      <th>1</th>\n",
       "      <td>@jessedee Know about @fludapp ? Awesome iPad/i...</td>\n",
       "      <td>iPad or iPhone App</td>\n",
       "      <td>Positive emotion</td>\n",
       "    </tr>\n",
       "    <tr>\n",
       "      <th>2</th>\n",
       "      <td>@swonderlin Can not wait for #iPad 2 also. The...</td>\n",
       "      <td>iPad</td>\n",
       "      <td>Positive emotion</td>\n",
       "    </tr>\n",
       "    <tr>\n",
       "      <th>3</th>\n",
       "      <td>@sxsw I hope this year's festival isn't as cra...</td>\n",
       "      <td>iPad or iPhone App</td>\n",
       "      <td>Negative emotion</td>\n",
       "    </tr>\n",
       "    <tr>\n",
       "      <th>4</th>\n",
       "      <td>@sxtxstate great stuff on Fri #SXSW: Marissa M...</td>\n",
       "      <td>Google</td>\n",
       "      <td>Positive emotion</td>\n",
       "    </tr>\n",
       "    <tr>\n",
       "      <th>...</th>\n",
       "      <td>...</td>\n",
       "      <td>...</td>\n",
       "      <td>...</td>\n",
       "    </tr>\n",
       "    <tr>\n",
       "      <th>8716</th>\n",
       "      <td>Ipad everywhere. #SXSW {link}</td>\n",
       "      <td>iPad</td>\n",
       "      <td>Positive emotion</td>\n",
       "    </tr>\n",
       "    <tr>\n",
       "      <th>8717</th>\n",
       "      <td>Wave, buzz... RT @mention We interrupt your re...</td>\n",
       "      <td>NaN</td>\n",
       "      <td>No emotion toward brand or product</td>\n",
       "    </tr>\n",
       "    <tr>\n",
       "      <th>8718</th>\n",
       "      <td>Google's Zeiger, a physician never reported po...</td>\n",
       "      <td>NaN</td>\n",
       "      <td>No emotion toward brand or product</td>\n",
       "    </tr>\n",
       "    <tr>\n",
       "      <th>8719</th>\n",
       "      <td>Some Verizon iPhone customers complained their...</td>\n",
       "      <td>NaN</td>\n",
       "      <td>No emotion toward brand or product</td>\n",
       "    </tr>\n",
       "    <tr>\n",
       "      <th>8720</th>\n",
       "      <td>�ϡ�����_��ʋ�΋�ҋ�������⋁_��������_���RT @mentio...</td>\n",
       "      <td>NaN</td>\n",
       "      <td>No emotion toward brand or product</td>\n",
       "    </tr>\n",
       "  </tbody>\n",
       "</table>\n",
       "<p>8721 rows × 3 columns</p>\n",
       "</div>"
      ],
      "text/plain": [
       "                                             tweet_text  \\\n",
       "0     .@wesley83 I have a 3G iPhone. After 3 hrs twe...   \n",
       "1     @jessedee Know about @fludapp ? Awesome iPad/i...   \n",
       "2     @swonderlin Can not wait for #iPad 2 also. The...   \n",
       "3     @sxsw I hope this year's festival isn't as cra...   \n",
       "4     @sxtxstate great stuff on Fri #SXSW: Marissa M...   \n",
       "...                                                 ...   \n",
       "8716                      Ipad everywhere. #SXSW {link}   \n",
       "8717  Wave, buzz... RT @mention We interrupt your re...   \n",
       "8718  Google's Zeiger, a physician never reported po...   \n",
       "8719  Some Verizon iPhone customers complained their...   \n",
       "8720  �ϡ�����_��ʋ�΋�ҋ�������⋁_��������_���RT @mentio...   \n",
       "\n",
       "     emotion_in_tweet_is_directed_at  \\\n",
       "0                             iPhone   \n",
       "1                 iPad or iPhone App   \n",
       "2                               iPad   \n",
       "3                 iPad or iPhone App   \n",
       "4                             Google   \n",
       "...                              ...   \n",
       "8716                            iPad   \n",
       "8717                             NaN   \n",
       "8718                             NaN   \n",
       "8719                             NaN   \n",
       "8720                             NaN   \n",
       "\n",
       "     is_there_an_emotion_directed_at_a_brand_or_product  \n",
       "0                                      Negative emotion  \n",
       "1                                      Positive emotion  \n",
       "2                                      Positive emotion  \n",
       "3                                      Negative emotion  \n",
       "4                                      Positive emotion  \n",
       "...                                                 ...  \n",
       "8716                                   Positive emotion  \n",
       "8717                 No emotion toward brand or product  \n",
       "8718                 No emotion toward brand or product  \n",
       "8719                 No emotion toward brand or product  \n",
       "8720                 No emotion toward brand or product  \n",
       "\n",
       "[8721 rows x 3 columns]"
      ]
     },
     "execution_count": 3,
     "metadata": {},
     "output_type": "execute_result"
    }
   ],
   "source": [
    "df = pd.read_csv('tweets.csv')\n",
    "df"
   ]
  },
  {
   "cell_type": "markdown",
   "metadata": {},
   "source": [
    "Let's rename the column that contains all of the brands/products, since we will be working with that column throughout this notebook."
   ]
  },
  {
   "cell_type": "code",
   "execution_count": 4,
   "metadata": {},
   "outputs": [],
   "source": [
    "df.rename(columns={'emotion_in_tweet_is_directed_at': 'brand'}, inplace=True)"
   ]
  },
  {
   "cell_type": "markdown",
   "metadata": {},
   "source": [
    "Let's take a quick look at the info of this df.  We can see lots of missing values in the **'brand'** column.  We can probably impute most of these from the **'tweet_text'** column."
   ]
  },
  {
   "cell_type": "code",
   "execution_count": 5,
   "metadata": {},
   "outputs": [
    {
     "name": "stdout",
     "output_type": "stream",
     "text": [
      "<class 'pandas.core.frame.DataFrame'>\n",
      "RangeIndex: 8721 entries, 0 to 8720\n",
      "Data columns (total 3 columns):\n",
      " #   Column                                              Non-Null Count  Dtype \n",
      "---  ------                                              --------------  ----- \n",
      " 0   tweet_text                                          8720 non-null   object\n",
      " 1   brand                                               3169 non-null   object\n",
      " 2   is_there_an_emotion_directed_at_a_brand_or_product  8721 non-null   object\n",
      "dtypes: object(3)\n",
      "memory usage: 204.5+ KB\n"
     ]
    }
   ],
   "source": [
    "df.info()"
   ]
  },
  {
   "cell_type": "markdown",
   "metadata": {},
   "source": [
    "## Exploratory Data Analysis  \n",
    "Now that the dataset is loaded, we can begin our EDA.  First thing to address is the imputation of values for our **'brand'** column.  Let's look at all unique values."
   ]
  },
  {
   "cell_type": "markdown",
   "metadata": {},
   "source": [
    "Looking at unique values in column 'emotion_in_tweet_is_directed_at' for imputation."
   ]
  },
  {
   "cell_type": "code",
   "execution_count": 6,
   "metadata": {
    "scrolled": false
   },
   "outputs": [
    {
     "data": {
      "text/plain": [
       "array(['iPhone', 'iPad or iPhone App', 'iPad', 'Google', nan, 'Android',\n",
       "       'Apple', 'Android App', 'Other Google product or service',\n",
       "       'Other Apple product or service'], dtype=object)"
      ]
     },
     "execution_count": 6,
     "metadata": {},
     "output_type": "execute_result"
    }
   ],
   "source": [
    "df['brand'].unique()"
   ]
  },
  {
   "cell_type": "markdown",
   "metadata": {},
   "source": [
    "Found some NaN values in our 'brand' column and want to impute some additional values where possible to reduce the amount of NaN values.  Looks like iPhone, iPad or iPad App, iPad, Google, Android, Apple, Android App, Other Google product or service, and Other Apple product or service are all of our values currently.  \n",
    "  \n",
    "Since we are more concerned with major brands and products, let's consolidate this list to:\n",
    "\n",
    "* iPhone\n",
    "* iPad\n",
    "* Apple\n",
    "* Google\n",
    "* Android\n"
   ]
  },
  {
   "cell_type": "code",
   "execution_count": 7,
   "metadata": {
    "scrolled": false
   },
   "outputs": [
    {
     "name": "stdout",
     "output_type": "stream",
     "text": [
      "                                             tweet_text               brand\n",
      "0     .@wesley83 I have a 3G iPhone. After 3 hrs twe...              iPhone\n",
      "1     @jessedee Know about @fludapp ? Awesome iPad/i...  iPad or iPhone App\n",
      "2     @swonderlin Can not wait for #iPad 2 also. The...                iPad\n",
      "3     @sxsw I hope this year's festival isn't as cra...  iPad or iPhone App\n",
      "4     @sxtxstate great stuff on Fri #SXSW: Marissa M...              Google\n",
      "...                                                 ...                 ...\n",
      "8716                      Ipad everywhere. #SXSW {link}                iPad\n",
      "8717  Wave, buzz... RT @mention We interrupt your re...              Google\n",
      "8718  Google's Zeiger, a physician never reported po...              Google\n",
      "8719  Some Verizon iPhone customers complained their...              iPhone\n",
      "8720  �ϡ�����_��ʋ�΋�ҋ�������⋁_��������_���RT @mentio...              Google\n",
      "\n",
      "[8721 rows x 2 columns]\n"
     ]
    }
   ],
   "source": [
    "# Define the list of words we want to check for in the 'tweet_text' column\n",
    "words_to_check = ['iPhone', 'Apple', 'Google', 'iPad', 'Android']  # Change this to the words we want to check for\n",
    "\n",
    "# Replace NaN values in 'tweet_text' column with an empty string\n",
    "df['tweet_text'] = df['tweet_text'].fillna('')\n",
    "\n",
    "# Filter the DataFrame to include only rows where 'brand' is NaN\n",
    "filtered_df = df[df['brand'].isna()]\n",
    "\n",
    "# Loop over each word to check for in the 'tweet_text' column\n",
    "for word in words_to_check:\n",
    "    # Use boolean indexing to find rows where 'tweet_text' contains the word\n",
    "    rows_with_word = filtered_df[filtered_df['tweet_text'].str.contains(word, case=False)]\n",
    "    \n",
    "    # Update the value of 'brand' for the matching rows\n",
    "    df.loc[rows_with_word.index, 'brand'] = word\n",
    "\n",
    "# Print the updated DataFrame\n",
    "print(df[['tweet_text', 'brand']])"
   ]
  },
  {
   "cell_type": "code",
   "execution_count": 8,
   "metadata": {
    "scrolled": true
   },
   "outputs": [
    {
     "name": "stdout",
     "output_type": "stream",
     "text": [
      "<class 'pandas.core.frame.DataFrame'>\n",
      "RangeIndex: 8721 entries, 0 to 8720\n",
      "Data columns (total 3 columns):\n",
      " #   Column                                              Non-Null Count  Dtype \n",
      "---  ------                                              --------------  ----- \n",
      " 0   tweet_text                                          8721 non-null   object\n",
      " 1   brand                                               7984 non-null   object\n",
      " 2   is_there_an_emotion_directed_at_a_brand_or_product  8721 non-null   object\n",
      "dtypes: object(3)\n",
      "memory usage: 204.5+ KB\n"
     ]
    }
   ],
   "source": [
    "df.info() # checking the info again to see how many values we were able to impute"
   ]
  },
  {
   "cell_type": "markdown",
   "metadata": {},
   "source": [
    "Pretty solid improvement from 3169 values to 7984 values now.  Let's use mapping to consolidate these down to our targeted list we mentioned earlier:\n",
    "\n",
    "* iPhone\n",
    "* iPad\n",
    "* Apple\n",
    "* Google\n",
    "* Android"
   ]
  },
  {
   "cell_type": "code",
   "execution_count": 9,
   "metadata": {
    "scrolled": true
   },
   "outputs": [
    {
     "data": {
      "text/plain": [
       "iPad                               2389\n",
       "Google                             2057\n",
       "Apple                              1299\n",
       "iPhone                              961\n",
       "iPad or iPhone App                  451\n",
       "Android                             433\n",
       "Other Google product or service     282\n",
       "Android App                          78\n",
       "Other Apple product or service       34\n",
       "Name: brand, dtype: int64"
      ]
     },
     "execution_count": 9,
     "metadata": {},
     "output_type": "execute_result"
    }
   ],
   "source": [
    "# taking a quick look at unique value counts and we can see the value in consolidation\n",
    "df['brand'].value_counts() "
   ]
  },
  {
   "cell_type": "code",
   "execution_count": 10,
   "metadata": {
    "scrolled": true
   },
   "outputs": [
    {
     "name": "stdout",
     "output_type": "stream",
     "text": [
      "iPad       2389\n",
      "Google     2339\n",
      "Apple      1784\n",
      "iPhone      961\n",
      "Android     511\n",
      "Name: brand, dtype: int64\n"
     ]
    }
   ],
   "source": [
    "# Define the list of categories we keep\n",
    "categories_to_keep = ['iPhone', 'iPad', 'Apple', 'Google', 'Android']\n",
    "\n",
    "# Define a mapping of possible values to the categories we want to keep\n",
    "mapping = {\n",
    "    'iphone': 'iPhone',\n",
    "    'ipad': 'iPad',\n",
    "    'apple': 'Apple',\n",
    "    'google': 'Google',\n",
    "    'android': 'Android',\n",
    "    'android app': 'Android',\n",
    "    'ipad or iphone app': 'Apple',\n",
    "    'other apple product or service': 'Apple',\n",
    "    'other google product or service': 'Google'\n",
    "}\n",
    "\n",
    "# Convert all values to lowercase for case-insensitive matching\n",
    "df['brand'] = df['brand'].str.lower()\n",
    "\n",
    "# Map the values to the desired categories using the mapping defined\n",
    "df['brand'] = df['brand'].apply(lambda x: mapping.get(x, x))\n",
    "\n",
    "# Replace any remaining empty strings or NaNs with NaN\n",
    "df['brand'].replace('', pd.NA, inplace=True)\n",
    "\n",
    "# Print the updated DataFrame\n",
    "print(df['brand'].value_counts())\n"
   ]
  },
  {
   "cell_type": "markdown",
   "metadata": {},
   "source": [
    "To perform analysis and build models, we will need to standardize all of our text data.  Standardizing the data includes:  \n",
    "\n",
    "*  making everything lowercase  \n",
    "*  removing nonword characters and symbols   \n",
    "*  stripping whitespaces  \n",
    "*  removing stop words  \n",
    "*  Lemmatization  \n",
    "*  Stemming  \n",
    "\n",
    "Now, lets define a function that will use regex, lemmatization and stemming to clean our data.  For context, lemmatization and stemming is a process that essentially reduces words down to their bases.  Running and runs become run.  Partying and parties become party, etc."
   ]
  },
  {
   "cell_type": "code",
   "execution_count": 11,
   "metadata": {},
   "outputs": [],
   "source": [
    "# Text cleaning using regex\n",
    "def clean_tweet(tweet):\n",
    "    tweet = re.sub(r'http\\S+|www\\S+|https\\S+', '', tweet, flags=re.MULTILINE) # removing http, www, hhtps, and spacces from tweet\n",
    "    tweet = re.sub(r'\\@\\w+|\\#', '', tweet) ## removing @, #\n",
    "    tweet = tweet.lower()  # make all text lower case\n",
    "    tweet = re.sub(r'\\W', ' ', tweet) # replace non word characters with a space\n",
    "    tweet = re.sub(r'\\s+', ' ', tweet)  # replace multiple spaces with a single space\n",
    "    tweet = tweet.strip() # removes leading whitespaces\n",
    "    stop_words = set(stopwords.words('english')) # removing stop words\n",
    "    lemmatizer = WordNetLemmatizer() # lemmatizing words, turning running to run\n",
    "    words = tweet.split() # creating a list of words\n",
    "    cleaned_words = [lemmatizer.lemmatize(word) for word in words if word not in stop_words] # list comprehension to lemmatize and removie stop words\n",
    "    return ' '.join(cleaned_words) # joining clean and lemmatized words into a single string"
   ]
  },
  {
   "cell_type": "markdown",
   "metadata": {},
   "source": [
    "Now we will need to turn our columns into strings for analysis/modeling.  "
   ]
  },
  {
   "cell_type": "code",
   "execution_count": 12,
   "metadata": {},
   "outputs": [],
   "source": [
    "df['tweet_text'] = df['tweet_text'].astype(str)"
   ]
  },
  {
   "cell_type": "code",
   "execution_count": 13,
   "metadata": {
    "scrolled": true
   },
   "outputs": [],
   "source": [
    "df['cleaned_tweet'] = df['tweet_text'].apply(clean_tweet)"
   ]
  },
  {
   "cell_type": "markdown",
   "metadata": {},
   "source": [
    "Let's take a look at our work in the new column we have created called **'cleaned_tweet'**.  This is a good chance to take a look at what the stemming and lemmatization has done to our text data."
   ]
  },
  {
   "cell_type": "code",
   "execution_count": 14,
   "metadata": {},
   "outputs": [
    {
     "data": {
      "text/html": [
       "<div>\n",
       "<style scoped>\n",
       "    .dataframe tbody tr th:only-of-type {\n",
       "        vertical-align: middle;\n",
       "    }\n",
       "\n",
       "    .dataframe tbody tr th {\n",
       "        vertical-align: top;\n",
       "    }\n",
       "\n",
       "    .dataframe thead th {\n",
       "        text-align: right;\n",
       "    }\n",
       "</style>\n",
       "<table border=\"1\" class=\"dataframe\">\n",
       "  <thead>\n",
       "    <tr style=\"text-align: right;\">\n",
       "      <th></th>\n",
       "      <th>tweet_text</th>\n",
       "      <th>brand</th>\n",
       "      <th>is_there_an_emotion_directed_at_a_brand_or_product</th>\n",
       "      <th>cleaned_tweet</th>\n",
       "    </tr>\n",
       "  </thead>\n",
       "  <tbody>\n",
       "    <tr>\n",
       "      <th>0</th>\n",
       "      <td>.@wesley83 I have a 3G iPhone. After 3 hrs twe...</td>\n",
       "      <td>iPhone</td>\n",
       "      <td>Negative emotion</td>\n",
       "      <td>3g iphone 3 hr tweeting rise_austin dead need ...</td>\n",
       "    </tr>\n",
       "    <tr>\n",
       "      <th>1</th>\n",
       "      <td>@jessedee Know about @fludapp ? Awesome iPad/i...</td>\n",
       "      <td>Apple</td>\n",
       "      <td>Positive emotion</td>\n",
       "      <td>know awesome ipad iphone app likely appreciate...</td>\n",
       "    </tr>\n",
       "    <tr>\n",
       "      <th>2</th>\n",
       "      <td>@swonderlin Can not wait for #iPad 2 also. The...</td>\n",
       "      <td>iPad</td>\n",
       "      <td>Positive emotion</td>\n",
       "      <td>wait ipad 2 also sale sxsw</td>\n",
       "    </tr>\n",
       "    <tr>\n",
       "      <th>3</th>\n",
       "      <td>@sxsw I hope this year's festival isn't as cra...</td>\n",
       "      <td>Apple</td>\n",
       "      <td>Negative emotion</td>\n",
       "      <td>hope year festival crashy year iphone app sxsw</td>\n",
       "    </tr>\n",
       "    <tr>\n",
       "      <th>4</th>\n",
       "      <td>@sxtxstate great stuff on Fri #SXSW: Marissa M...</td>\n",
       "      <td>Google</td>\n",
       "      <td>Positive emotion</td>\n",
       "      <td>great stuff fri sxsw marissa mayer google tim ...</td>\n",
       "    </tr>\n",
       "  </tbody>\n",
       "</table>\n",
       "</div>"
      ],
      "text/plain": [
       "                                          tweet_text   brand  \\\n",
       "0  .@wesley83 I have a 3G iPhone. After 3 hrs twe...  iPhone   \n",
       "1  @jessedee Know about @fludapp ? Awesome iPad/i...   Apple   \n",
       "2  @swonderlin Can not wait for #iPad 2 also. The...    iPad   \n",
       "3  @sxsw I hope this year's festival isn't as cra...   Apple   \n",
       "4  @sxtxstate great stuff on Fri #SXSW: Marissa M...  Google   \n",
       "\n",
       "  is_there_an_emotion_directed_at_a_brand_or_product  \\\n",
       "0                                   Negative emotion   \n",
       "1                                   Positive emotion   \n",
       "2                                   Positive emotion   \n",
       "3                                   Negative emotion   \n",
       "4                                   Positive emotion   \n",
       "\n",
       "                                       cleaned_tweet  \n",
       "0  3g iphone 3 hr tweeting rise_austin dead need ...  \n",
       "1  know awesome ipad iphone app likely appreciate...  \n",
       "2                         wait ipad 2 also sale sxsw  \n",
       "3     hope year festival crashy year iphone app sxsw  \n",
       "4  great stuff fri sxsw marissa mayer google tim ...  "
      ]
     },
     "execution_count": 14,
     "metadata": {},
     "output_type": "execute_result"
    }
   ],
   "source": [
    "df.head()"
   ]
  },
  {
   "cell_type": "markdown",
   "metadata": {},
   "source": [
    "Tweets are cleaned and we can move on to the next step-encoding.  \n",
    "Label Encoding values in the 'is_there_an_emotion_directed_at_a_brand_or_product' column to make a new column, 'sentiment' is appropriaate since the values are ordinal.   \n",
    "0=Undefined  \n",
    "1=Negative  \n",
    "2=Indifferent  \n",
    "3=Positve  \n"
   ]
  },
  {
   "cell_type": "code",
   "execution_count": 15,
   "metadata": {},
   "outputs": [],
   "source": [
    "label_encoder = LabelEncoder()\n",
    "df['sentiment'] = label_encoder.fit_transform(df['is_there_an_emotion_directed_at_a_brand_or_product'])"
   ]
  },
  {
   "cell_type": "markdown",
   "metadata": {},
   "source": [
    "Looks like we have some more rows we can drop.  If we can't decipher sentiment (denoted as a value of 0), we can't use these in our modeling.  Goodbye!"
   ]
  },
  {
   "cell_type": "code",
   "execution_count": 16,
   "metadata": {
    "scrolled": true
   },
   "outputs": [
    {
     "data": {
      "text/html": [
       "<div>\n",
       "<style scoped>\n",
       "    .dataframe tbody tr th:only-of-type {\n",
       "        vertical-align: middle;\n",
       "    }\n",
       "\n",
       "    .dataframe tbody tr th {\n",
       "        vertical-align: top;\n",
       "    }\n",
       "\n",
       "    .dataframe thead th {\n",
       "        text-align: right;\n",
       "    }\n",
       "</style>\n",
       "<table border=\"1\" class=\"dataframe\">\n",
       "  <thead>\n",
       "    <tr style=\"text-align: right;\">\n",
       "      <th></th>\n",
       "      <th>tweet_text</th>\n",
       "      <th>brand</th>\n",
       "      <th>is_there_an_emotion_directed_at_a_brand_or_product</th>\n",
       "      <th>cleaned_tweet</th>\n",
       "      <th>sentiment</th>\n",
       "    </tr>\n",
       "  </thead>\n",
       "  <tbody>\n",
       "    <tr>\n",
       "      <th>88</th>\n",
       "      <td>Thanks to @mention for publishing the news of ...</td>\n",
       "      <td>NaN</td>\n",
       "      <td>I can't tell</td>\n",
       "      <td>thanks publishing news new medical apps sxswi ...</td>\n",
       "      <td>0</td>\n",
       "    </tr>\n",
       "    <tr>\n",
       "      <th>100</th>\n",
       "      <td>���@mention &amp;quot;Apple has opened a pop-up st...</td>\n",
       "      <td>iPad</td>\n",
       "      <td>I can't tell</td>\n",
       "      <td>quot apple opened pop store austin nerd town s...</td>\n",
       "      <td>0</td>\n",
       "    </tr>\n",
       "    <tr>\n",
       "      <th>228</th>\n",
       "      <td>Just what America needs. RT @mention Google to...</td>\n",
       "      <td>Google</td>\n",
       "      <td>I can't tell</td>\n",
       "      <td>america need rt google launch major new social...</td>\n",
       "      <td>0</td>\n",
       "    </tr>\n",
       "    <tr>\n",
       "      <th>330</th>\n",
       "      <td>The queue at the Apple Store in Austin is FOUR...</td>\n",
       "      <td>Apple</td>\n",
       "      <td>I can't tell</td>\n",
       "      <td>queue apple store austin four block long crazy...</td>\n",
       "      <td>0</td>\n",
       "    </tr>\n",
       "    <tr>\n",
       "      <th>357</th>\n",
       "      <td>Hope it's better than wave RT @mention Buzz is...</td>\n",
       "      <td>Google</td>\n",
       "      <td>I can't tell</td>\n",
       "      <td>hope better wave rt buzz google previewing soc...</td>\n",
       "      <td>0</td>\n",
       "    </tr>\n",
       "    <tr>\n",
       "      <th>...</th>\n",
       "      <td>...</td>\n",
       "      <td>...</td>\n",
       "      <td>...</td>\n",
       "      <td>...</td>\n",
       "      <td>...</td>\n",
       "    </tr>\n",
       "    <tr>\n",
       "      <th>8650</th>\n",
       "      <td>It's funny watching a room full of people hold...</td>\n",
       "      <td>iPad</td>\n",
       "      <td>I can't tell</td>\n",
       "      <td>funny watching room full people hold ipad air ...</td>\n",
       "      <td>0</td>\n",
       "    </tr>\n",
       "    <tr>\n",
       "      <th>8662</th>\n",
       "      <td>@mention yeah, we have @mention , Google has n...</td>\n",
       "      <td>Google</td>\n",
       "      <td>I can't tell</td>\n",
       "      <td>yeah google nothing u sxsw</td>\n",
       "      <td>0</td>\n",
       "    </tr>\n",
       "    <tr>\n",
       "      <th>8667</th>\n",
       "      <td>@mention Yes, the Google presentation was not ...</td>\n",
       "      <td>Google</td>\n",
       "      <td>I can't tell</td>\n",
       "      <td>yes google presentation exactly expecting sxsw</td>\n",
       "      <td>0</td>\n",
       "    </tr>\n",
       "    <tr>\n",
       "      <th>8687</th>\n",
       "      <td>&amp;quot;Do you know what Apple is really good at...</td>\n",
       "      <td>iPad</td>\n",
       "      <td>I can't tell</td>\n",
       "      <td>quot know apple really good making feel bad xm...</td>\n",
       "      <td>0</td>\n",
       "    </tr>\n",
       "    <tr>\n",
       "      <th>8695</th>\n",
       "      <td>How much you want to bet Apple is disproportio...</td>\n",
       "      <td>Apple</td>\n",
       "      <td>I can't tell</td>\n",
       "      <td>much want bet apple disproportionately stockin...</td>\n",
       "      <td>0</td>\n",
       "    </tr>\n",
       "  </tbody>\n",
       "</table>\n",
       "<p>151 rows × 5 columns</p>\n",
       "</div>"
      ],
      "text/plain": [
       "                                             tweet_text   brand  \\\n",
       "88    Thanks to @mention for publishing the news of ...     NaN   \n",
       "100   ���@mention &quot;Apple has opened a pop-up st...    iPad   \n",
       "228   Just what America needs. RT @mention Google to...  Google   \n",
       "330   The queue at the Apple Store in Austin is FOUR...   Apple   \n",
       "357   Hope it's better than wave RT @mention Buzz is...  Google   \n",
       "...                                                 ...     ...   \n",
       "8650  It's funny watching a room full of people hold...    iPad   \n",
       "8662  @mention yeah, we have @mention , Google has n...  Google   \n",
       "8667  @mention Yes, the Google presentation was not ...  Google   \n",
       "8687  &quot;Do you know what Apple is really good at...    iPad   \n",
       "8695  How much you want to bet Apple is disproportio...   Apple   \n",
       "\n",
       "     is_there_an_emotion_directed_at_a_brand_or_product  \\\n",
       "88                                         I can't tell   \n",
       "100                                        I can't tell   \n",
       "228                                        I can't tell   \n",
       "330                                        I can't tell   \n",
       "357                                        I can't tell   \n",
       "...                                                 ...   \n",
       "8650                                       I can't tell   \n",
       "8662                                       I can't tell   \n",
       "8667                                       I can't tell   \n",
       "8687                                       I can't tell   \n",
       "8695                                       I can't tell   \n",
       "\n",
       "                                          cleaned_tweet  sentiment  \n",
       "88    thanks publishing news new medical apps sxswi ...          0  \n",
       "100   quot apple opened pop store austin nerd town s...          0  \n",
       "228   america need rt google launch major new social...          0  \n",
       "330   queue apple store austin four block long crazy...          0  \n",
       "357   hope better wave rt buzz google previewing soc...          0  \n",
       "...                                                 ...        ...  \n",
       "8650  funny watching room full people hold ipad air ...          0  \n",
       "8662                         yeah google nothing u sxsw          0  \n",
       "8667     yes google presentation exactly expecting sxsw          0  \n",
       "8687  quot know apple really good making feel bad xm...          0  \n",
       "8695  much want bet apple disproportionately stockin...          0  \n",
       "\n",
       "[151 rows x 5 columns]"
      ]
     },
     "execution_count": 16,
     "metadata": {},
     "output_type": "execute_result"
    }
   ],
   "source": [
    "df['sentiment']\n",
    "df[df['sentiment']==0]"
   ]
  },
  {
   "cell_type": "code",
   "execution_count": 17,
   "metadata": {},
   "outputs": [],
   "source": [
    "# Drop rows where 'sentiment' is equal to 0 in the original DataFrame\n",
    "df.drop(df[df['sentiment'] == 0].index, inplace=True)\n"
   ]
  },
  {
   "cell_type": "markdown",
   "metadata": {},
   "source": [
    "Let's take another look to make sure all NaN values have been addressed."
   ]
  },
  {
   "cell_type": "code",
   "execution_count": 18,
   "metadata": {},
   "outputs": [
    {
     "data": {
      "text/plain": [
       "732"
      ]
     },
     "execution_count": 18,
     "metadata": {},
     "output_type": "execute_result"
    }
   ],
   "source": [
    "# quick way to view all NaN values in a specific column\n",
    "df['brand'].isna().sum()"
   ]
  },
  {
   "cell_type": "markdown",
   "metadata": {},
   "source": [
    "But I'm still seeing some NaN values.  Let's finish cleaning this up."
   ]
  },
  {
   "cell_type": "code",
   "execution_count": 19,
   "metadata": {},
   "outputs": [],
   "source": [
    "df.dropna(subset=['brand'], inplace=True)"
   ]
  },
  {
   "cell_type": "code",
   "execution_count": 20,
   "metadata": {
    "scrolled": false
   },
   "outputs": [
    {
     "data": {
      "text/plain": [
       "tweet_text                                            0\n",
       "brand                                                 0\n",
       "is_there_an_emotion_directed_at_a_brand_or_product    0\n",
       "cleaned_tweet                                         0\n",
       "sentiment                                             0\n",
       "dtype: int64"
      ]
     },
     "execution_count": 20,
     "metadata": {},
     "output_type": "execute_result"
    }
   ],
   "source": [
    "df.isnull().sum()"
   ]
  },
  {
   "cell_type": "code",
   "execution_count": 21,
   "metadata": {},
   "outputs": [],
   "source": [
    "# we need to reset our index for matching in our modelling.\n",
    "df.reset_index(drop=True, inplace=True)"
   ]
  },
  {
   "cell_type": "markdown",
   "metadata": {},
   "source": [
    "For our **'brand'** column we will need to use **OneHotEncoder** to address the categorical variable in that column.  Notice since there is no ordinal relationship between the values in this column, we have to use OneHotEncoding vs label encoding."
   ]
  },
  {
   "cell_type": "code",
   "execution_count": 22,
   "metadata": {
    "scrolled": false
   },
   "outputs": [
    {
     "name": "stderr",
     "output_type": "stream",
     "text": [
      "C:\\Users\\byrdw\\anaconda3\\envs\\learn-env\\lib\\site-packages\\sklearn\\preprocessing\\_encoders.py:975: FutureWarning: `sparse` was renamed to `sparse_output` in version 1.2 and will be removed in 1.4. `sparse_output` is ignored unless you leave `sparse` to its default value.\n",
      "  warnings.warn(\n"
     ]
    },
    {
     "data": {
      "text/html": [
       "<div>\n",
       "<style scoped>\n",
       "    .dataframe tbody tr th:only-of-type {\n",
       "        vertical-align: middle;\n",
       "    }\n",
       "\n",
       "    .dataframe tbody tr th {\n",
       "        vertical-align: top;\n",
       "    }\n",
       "\n",
       "    .dataframe thead th {\n",
       "        text-align: right;\n",
       "    }\n",
       "</style>\n",
       "<table border=\"1\" class=\"dataframe\">\n",
       "  <thead>\n",
       "    <tr style=\"text-align: right;\">\n",
       "      <th></th>\n",
       "      <th>tweet_text</th>\n",
       "      <th>brand</th>\n",
       "      <th>is_there_an_emotion_directed_at_a_brand_or_product</th>\n",
       "      <th>cleaned_tweet</th>\n",
       "      <th>sentiment</th>\n",
       "      <th>brand_iPhone</th>\n",
       "      <th>brand_iPad</th>\n",
       "      <th>brand_Apple</th>\n",
       "      <th>brand_Google</th>\n",
       "      <th>brand_Android</th>\n",
       "    </tr>\n",
       "  </thead>\n",
       "  <tbody>\n",
       "    <tr>\n",
       "      <th>0</th>\n",
       "      <td>.@wesley83 I have a 3G iPhone. After 3 hrs twe...</td>\n",
       "      <td>iPhone</td>\n",
       "      <td>Negative emotion</td>\n",
       "      <td>3g iphone 3 hr tweeting rise_austin dead need ...</td>\n",
       "      <td>1</td>\n",
       "      <td>1.0</td>\n",
       "      <td>0.0</td>\n",
       "      <td>0.0</td>\n",
       "      <td>0.0</td>\n",
       "      <td>0.0</td>\n",
       "    </tr>\n",
       "    <tr>\n",
       "      <th>1</th>\n",
       "      <td>@jessedee Know about @fludapp ? Awesome iPad/i...</td>\n",
       "      <td>Apple</td>\n",
       "      <td>Positive emotion</td>\n",
       "      <td>know awesome ipad iphone app likely appreciate...</td>\n",
       "      <td>3</td>\n",
       "      <td>0.0</td>\n",
       "      <td>0.0</td>\n",
       "      <td>1.0</td>\n",
       "      <td>0.0</td>\n",
       "      <td>0.0</td>\n",
       "    </tr>\n",
       "    <tr>\n",
       "      <th>2</th>\n",
       "      <td>@swonderlin Can not wait for #iPad 2 also. The...</td>\n",
       "      <td>iPad</td>\n",
       "      <td>Positive emotion</td>\n",
       "      <td>wait ipad 2 also sale sxsw</td>\n",
       "      <td>3</td>\n",
       "      <td>0.0</td>\n",
       "      <td>1.0</td>\n",
       "      <td>0.0</td>\n",
       "      <td>0.0</td>\n",
       "      <td>0.0</td>\n",
       "    </tr>\n",
       "    <tr>\n",
       "      <th>3</th>\n",
       "      <td>@sxsw I hope this year's festival isn't as cra...</td>\n",
       "      <td>Apple</td>\n",
       "      <td>Negative emotion</td>\n",
       "      <td>hope year festival crashy year iphone app sxsw</td>\n",
       "      <td>1</td>\n",
       "      <td>0.0</td>\n",
       "      <td>0.0</td>\n",
       "      <td>1.0</td>\n",
       "      <td>0.0</td>\n",
       "      <td>0.0</td>\n",
       "    </tr>\n",
       "    <tr>\n",
       "      <th>4</th>\n",
       "      <td>@sxtxstate great stuff on Fri #SXSW: Marissa M...</td>\n",
       "      <td>Google</td>\n",
       "      <td>Positive emotion</td>\n",
       "      <td>great stuff fri sxsw marissa mayer google tim ...</td>\n",
       "      <td>3</td>\n",
       "      <td>0.0</td>\n",
       "      <td>0.0</td>\n",
       "      <td>0.0</td>\n",
       "      <td>1.0</td>\n",
       "      <td>0.0</td>\n",
       "    </tr>\n",
       "  </tbody>\n",
       "</table>\n",
       "</div>"
      ],
      "text/plain": [
       "                                          tweet_text   brand  \\\n",
       "0  .@wesley83 I have a 3G iPhone. After 3 hrs twe...  iPhone   \n",
       "1  @jessedee Know about @fludapp ? Awesome iPad/i...   Apple   \n",
       "2  @swonderlin Can not wait for #iPad 2 also. The...    iPad   \n",
       "3  @sxsw I hope this year's festival isn't as cra...   Apple   \n",
       "4  @sxtxstate great stuff on Fri #SXSW: Marissa M...  Google   \n",
       "\n",
       "  is_there_an_emotion_directed_at_a_brand_or_product  \\\n",
       "0                                   Negative emotion   \n",
       "1                                   Positive emotion   \n",
       "2                                   Positive emotion   \n",
       "3                                   Negative emotion   \n",
       "4                                   Positive emotion   \n",
       "\n",
       "                                       cleaned_tweet  sentiment  brand_iPhone  \\\n",
       "0  3g iphone 3 hr tweeting rise_austin dead need ...          1           1.0   \n",
       "1  know awesome ipad iphone app likely appreciate...          3           0.0   \n",
       "2                         wait ipad 2 also sale sxsw          3           0.0   \n",
       "3     hope year festival crashy year iphone app sxsw          1           0.0   \n",
       "4  great stuff fri sxsw marissa mayer google tim ...          3           0.0   \n",
       "\n",
       "   brand_iPad  brand_Apple  brand_Google  brand_Android  \n",
       "0         0.0          0.0           0.0            0.0  \n",
       "1         0.0          1.0           0.0            0.0  \n",
       "2         1.0          0.0           0.0            0.0  \n",
       "3         0.0          1.0           0.0            0.0  \n",
       "4         0.0          0.0           1.0            0.0  "
      ]
     },
     "execution_count": 22,
     "metadata": {},
     "output_type": "execute_result"
    }
   ],
   "source": [
    "# Use OneHotEncoder from scikit-learn\n",
    "encoder = OneHotEncoder(categories=[['iPhone', 'iPad', 'Apple', 'Google', 'Android']], drop=None, sparse=False)\n",
    "encoded_data = encoder.fit_transform(df[['brand']])\n",
    "\n",
    "# Create a DataFrame with the encoded data\n",
    "encoded_df = pd.DataFrame(encoded_data, columns=encoder.get_feature_names_out(['brand']))\n",
    "\n",
    "# Concatenate the encoded DataFrame with the original DataFrame\n",
    "df = pd.concat([df, encoded_df], axis=1)\n",
    "\n",
    "# Drop the original 'brand' column if no longer needed\n",
    "#df.drop(columns=['brand'], inplace=True)\n",
    "\n",
    "# Print the updated DataFrame\n",
    "df.head()\n"
   ]
  },
  {
   "cell_type": "markdown",
   "metadata": {},
   "source": [
    "One last review for NaN values"
   ]
  },
  {
   "cell_type": "code",
   "execution_count": 23,
   "metadata": {
    "scrolled": false
   },
   "outputs": [
    {
     "name": "stdout",
     "output_type": "stream",
     "text": [
      "tweet_text                                            False\n",
      "brand                                                 False\n",
      "is_there_an_emotion_directed_at_a_brand_or_product    False\n",
      "cleaned_tweet                                         False\n",
      "sentiment                                             False\n",
      "brand_iPhone                                          False\n",
      "brand_iPad                                            False\n",
      "brand_Apple                                           False\n",
      "brand_Google                                          False\n",
      "brand_Android                                         False\n",
      "dtype: bool\n"
     ]
    }
   ],
   "source": [
    "nan_values = df.isna().any()\n",
    "\n",
    "# Print the columns with NaN values, if any\n",
    "print(nan_values)"
   ]
  },
  {
   "cell_type": "markdown",
   "metadata": {},
   "source": [
    "Double check!"
   ]
  },
  {
   "cell_type": "code",
   "execution_count": 24,
   "metadata": {
    "scrolled": true
   },
   "outputs": [
    {
     "data": {
      "text/plain": [
       "tweet_text                                            0\n",
       "brand                                                 0\n",
       "is_there_an_emotion_directed_at_a_brand_or_product    0\n",
       "cleaned_tweet                                         0\n",
       "sentiment                                             0\n",
       "brand_iPhone                                          0\n",
       "brand_iPad                                            0\n",
       "brand_Apple                                           0\n",
       "brand_Google                                          0\n",
       "brand_Android                                         0\n",
       "dtype: int64"
      ]
     },
     "execution_count": 24,
     "metadata": {},
     "output_type": "execute_result"
    }
   ],
   "source": [
    "df.isnull().sum()"
   ]
  },
  {
   "cell_type": "markdown",
   "metadata": {},
   "source": [
    "Great work! All NaN values are gone and we have imputed 4000 values!"
   ]
  },
  {
   "cell_type": "markdown",
   "metadata": {},
   "source": [
    "Now it's time to Tokenize our text.  Tokenizing is an important preprocessing step as it allows us to further analyze the text.  We can create bigrams, trigrams, and determine feature importance."
   ]
  },
  {
   "cell_type": "markdown",
   "metadata": {},
   "source": [
    "tokenizing 'cleaned_tweet' to 'tokenized_tweets'"
   ]
  },
  {
   "cell_type": "code",
   "execution_count": 25,
   "metadata": {
    "scrolled": false
   },
   "outputs": [
    {
     "data": {
      "text/html": [
       "<div>\n",
       "<style scoped>\n",
       "    .dataframe tbody tr th:only-of-type {\n",
       "        vertical-align: middle;\n",
       "    }\n",
       "\n",
       "    .dataframe tbody tr th {\n",
       "        vertical-align: top;\n",
       "    }\n",
       "\n",
       "    .dataframe thead th {\n",
       "        text-align: right;\n",
       "    }\n",
       "</style>\n",
       "<table border=\"1\" class=\"dataframe\">\n",
       "  <thead>\n",
       "    <tr style=\"text-align: right;\">\n",
       "      <th></th>\n",
       "      <th>tweet_text</th>\n",
       "      <th>brand</th>\n",
       "      <th>is_there_an_emotion_directed_at_a_brand_or_product</th>\n",
       "      <th>cleaned_tweet</th>\n",
       "      <th>sentiment</th>\n",
       "      <th>brand_iPhone</th>\n",
       "      <th>brand_iPad</th>\n",
       "      <th>brand_Apple</th>\n",
       "      <th>brand_Google</th>\n",
       "      <th>brand_Android</th>\n",
       "      <th>tokenized_tweets</th>\n",
       "    </tr>\n",
       "  </thead>\n",
       "  <tbody>\n",
       "    <tr>\n",
       "      <th>0</th>\n",
       "      <td>.@wesley83 I have a 3G iPhone. After 3 hrs twe...</td>\n",
       "      <td>iPhone</td>\n",
       "      <td>Negative emotion</td>\n",
       "      <td>3g iphone 3 hr tweeting rise_austin dead need ...</td>\n",
       "      <td>1</td>\n",
       "      <td>1.0</td>\n",
       "      <td>0.0</td>\n",
       "      <td>0.0</td>\n",
       "      <td>0.0</td>\n",
       "      <td>0.0</td>\n",
       "      <td>[3g, iphone, 3, hr, tweeting, rise_austin, dea...</td>\n",
       "    </tr>\n",
       "    <tr>\n",
       "      <th>1</th>\n",
       "      <td>@jessedee Know about @fludapp ? Awesome iPad/i...</td>\n",
       "      <td>Apple</td>\n",
       "      <td>Positive emotion</td>\n",
       "      <td>know awesome ipad iphone app likely appreciate...</td>\n",
       "      <td>3</td>\n",
       "      <td>0.0</td>\n",
       "      <td>0.0</td>\n",
       "      <td>1.0</td>\n",
       "      <td>0.0</td>\n",
       "      <td>0.0</td>\n",
       "      <td>[know, awesome, ipad, iphone, app, likely, app...</td>\n",
       "    </tr>\n",
       "    <tr>\n",
       "      <th>2</th>\n",
       "      <td>@swonderlin Can not wait for #iPad 2 also. The...</td>\n",
       "      <td>iPad</td>\n",
       "      <td>Positive emotion</td>\n",
       "      <td>wait ipad 2 also sale sxsw</td>\n",
       "      <td>3</td>\n",
       "      <td>0.0</td>\n",
       "      <td>1.0</td>\n",
       "      <td>0.0</td>\n",
       "      <td>0.0</td>\n",
       "      <td>0.0</td>\n",
       "      <td>[wait, ipad, 2, also, sale, sxsw]</td>\n",
       "    </tr>\n",
       "    <tr>\n",
       "      <th>3</th>\n",
       "      <td>@sxsw I hope this year's festival isn't as cra...</td>\n",
       "      <td>Apple</td>\n",
       "      <td>Negative emotion</td>\n",
       "      <td>hope year festival crashy year iphone app sxsw</td>\n",
       "      <td>1</td>\n",
       "      <td>0.0</td>\n",
       "      <td>0.0</td>\n",
       "      <td>1.0</td>\n",
       "      <td>0.0</td>\n",
       "      <td>0.0</td>\n",
       "      <td>[hope, year, festival, crashy, year, iphone, a...</td>\n",
       "    </tr>\n",
       "    <tr>\n",
       "      <th>4</th>\n",
       "      <td>@sxtxstate great stuff on Fri #SXSW: Marissa M...</td>\n",
       "      <td>Google</td>\n",
       "      <td>Positive emotion</td>\n",
       "      <td>great stuff fri sxsw marissa mayer google tim ...</td>\n",
       "      <td>3</td>\n",
       "      <td>0.0</td>\n",
       "      <td>0.0</td>\n",
       "      <td>0.0</td>\n",
       "      <td>1.0</td>\n",
       "      <td>0.0</td>\n",
       "      <td>[great, stuff, fri, sxsw, marissa, mayer, goog...</td>\n",
       "    </tr>\n",
       "  </tbody>\n",
       "</table>\n",
       "</div>"
      ],
      "text/plain": [
       "                                          tweet_text   brand  \\\n",
       "0  .@wesley83 I have a 3G iPhone. After 3 hrs twe...  iPhone   \n",
       "1  @jessedee Know about @fludapp ? Awesome iPad/i...   Apple   \n",
       "2  @swonderlin Can not wait for #iPad 2 also. The...    iPad   \n",
       "3  @sxsw I hope this year's festival isn't as cra...   Apple   \n",
       "4  @sxtxstate great stuff on Fri #SXSW: Marissa M...  Google   \n",
       "\n",
       "  is_there_an_emotion_directed_at_a_brand_or_product  \\\n",
       "0                                   Negative emotion   \n",
       "1                                   Positive emotion   \n",
       "2                                   Positive emotion   \n",
       "3                                   Negative emotion   \n",
       "4                                   Positive emotion   \n",
       "\n",
       "                                       cleaned_tweet  sentiment  brand_iPhone  \\\n",
       "0  3g iphone 3 hr tweeting rise_austin dead need ...          1           1.0   \n",
       "1  know awesome ipad iphone app likely appreciate...          3           0.0   \n",
       "2                         wait ipad 2 also sale sxsw          3           0.0   \n",
       "3     hope year festival crashy year iphone app sxsw          1           0.0   \n",
       "4  great stuff fri sxsw marissa mayer google tim ...          3           0.0   \n",
       "\n",
       "   brand_iPad  brand_Apple  brand_Google  brand_Android  \\\n",
       "0         0.0          0.0           0.0            0.0   \n",
       "1         0.0          1.0           0.0            0.0   \n",
       "2         1.0          0.0           0.0            0.0   \n",
       "3         0.0          1.0           0.0            0.0   \n",
       "4         0.0          0.0           1.0            0.0   \n",
       "\n",
       "                                    tokenized_tweets  \n",
       "0  [3g, iphone, 3, hr, tweeting, rise_austin, dea...  \n",
       "1  [know, awesome, ipad, iphone, app, likely, app...  \n",
       "2                  [wait, ipad, 2, also, sale, sxsw]  \n",
       "3  [hope, year, festival, crashy, year, iphone, a...  \n",
       "4  [great, stuff, fri, sxsw, marissa, mayer, goog...  "
      ]
     },
     "execution_count": 25,
     "metadata": {},
     "output_type": "execute_result"
    }
   ],
   "source": [
    "df['tokenized_tweets'] = df['cleaned_tweet'].apply(word_tokenize)\n",
    "df.head()"
   ]
  },
  {
   "cell_type": "markdown",
   "metadata": {},
   "source": [
    "Pretty simple to tokenize the text.  Now that the individual words are tokenized, let's create a bag of words.  This will allow us to check frequency of words."
   ]
  },
  {
   "cell_type": "code",
   "execution_count": 26,
   "metadata": {
    "scrolled": true
   },
   "outputs": [
    {
     "data": {
      "text/plain": [
       "{'3g': 29,\n",
       " 'iphone': 1492,\n",
       " '3': 143,\n",
       " 'hr': 5,\n",
       " 'tweeting': 28,\n",
       " 'rise_austin': 2,\n",
       " 'dead': 7,\n",
       " 'need': 218,\n",
       " 'upgrade': 13,\n",
       " 'plugin': 4,\n",
       " 'station': 9,\n",
       " 'sxsw': 8324,\n",
       " 'know': 181,\n",
       " 'awesome': 115,\n",
       " 'ipad': 2397,\n",
       " 'app': 751,\n",
       " 'likely': 11,\n",
       " 'appreciate': 4,\n",
       " 'design': 130,\n",
       " 'also': 73,\n",
       " 'giving': 65,\n",
       " 'free': 242,\n",
       " 't': 2,\n",
       " 'wait': 72,\n",
       " '2': 1160,\n",
       " 'sale': 43,\n",
       " 'hope': 47,\n",
       " 'year': 148,\n",
       " 'festival': 22,\n",
       " 'crashy': 2,\n",
       " 'great': 174,\n",
       " 'stuff': 30,\n",
       " 'fri': 7,\n",
       " 'marissa': 176,\n",
       " 'mayer': 203,\n",
       " 'google': 2501,\n",
       " 'tim': 17,\n",
       " 'reilly': 8,\n",
       " 'tech': 113,\n",
       " 'book': 36,\n",
       " 'conference': 69,\n",
       " 'amp': 715,\n",
       " 'matt': 11,\n",
       " 'mullenweg': 2,\n",
       " 'wordpress': 7,\n",
       " 'new': 1020,\n",
       " 'apps': 199,\n",
       " 'speechtherapy': 3,\n",
       " 'communication': 22,\n",
       " 'showcased': 18,\n",
       " 'iear': 3,\n",
       " 'edchat': 4,\n",
       " 'asd': 3,\n",
       " 'starting': 26,\n",
       " 'ctia': 3,\n",
       " 'around': 124,\n",
       " 'corner': 13,\n",
       " 'googleio': 2,\n",
       " 'hop': 3,\n",
       " 'skip': 3,\n",
       " 'jump': 6,\n",
       " 'good': 147,\n",
       " 'time': 272,\n",
       " 'android': 561,\n",
       " 'fan': 33,\n",
       " 'beautifully': 2,\n",
       " 'smart': 61,\n",
       " 'simple': 10,\n",
       " 'idea': 41,\n",
       " 'rt': 2638,\n",
       " 'wrote': 10,\n",
       " 'hollergram': 29,\n",
       " 'counting': 2,\n",
       " 'day': 252,\n",
       " 'plus': 18,\n",
       " 'strong': 8,\n",
       " 'canadian': 6,\n",
       " 'dollar': 8,\n",
       " 'mean': 28,\n",
       " 'stock': 21,\n",
       " 'apple': 2180,\n",
       " 'gear': 6,\n",
       " 'excited': 42,\n",
       " 'meet': 49,\n",
       " 'show': 120,\n",
       " 'sprint': 7,\n",
       " 'galaxy': 9,\n",
       " 'still': 99,\n",
       " 'running': 15,\n",
       " '1': 125,\n",
       " 'fail': 32,\n",
       " 'find': 78,\n",
       " 'start': 44,\n",
       " 'impromptu': 3,\n",
       " 'party': 334,\n",
       " 'til': 15,\n",
       " 'come': 201,\n",
       " 'foursquare': 44,\n",
       " 'ups': 7,\n",
       " 'game': 134,\n",
       " 'prefer': 9,\n",
       " 'far': 53,\n",
       " 'best': 120,\n",
       " 'looking': 72,\n",
       " 'date': 2,\n",
       " 'got': 165,\n",
       " 'ta': 17,\n",
       " 'love': 128,\n",
       " 'calendar': 17,\n",
       " 'featuring': 6,\n",
       " 'top': 30,\n",
       " 'case': 114,\n",
       " 'check': 220,\n",
       " 'via': 365,\n",
       " 'gt': 89,\n",
       " 'haha': 19,\n",
       " 'awesomely': 6,\n",
       " 'rad': 11,\n",
       " 'holler': 20,\n",
       " 'gram': 20,\n",
       " 'itunes': 35,\n",
       " 'store': 1416,\n",
       " 'noticed': 2,\n",
       " 'dst': 2,\n",
       " 'coming': 98,\n",
       " 'weekend': 44,\n",
       " 'many': 70,\n",
       " 'user': 147,\n",
       " 'hour': 79,\n",
       " 'late': 28,\n",
       " 'sunday': 10,\n",
       " 'morning': 41,\n",
       " 'added': 16,\n",
       " 'flight': 21,\n",
       " 'matching': 3,\n",
       " 'people': 218,\n",
       " 'plane': 18,\n",
       " 'airport': 15,\n",
       " 'downloaded': 11,\n",
       " 'nicely': 3,\n",
       " 'done': 18,\n",
       " 'must': 47,\n",
       " 'lovely': 5,\n",
       " 'review': 21,\n",
       " 'forbes': 2,\n",
       " 'buy': 93,\n",
       " 'ipad2': 429,\n",
       " 'austin': 850,\n",
       " 'sure': 48,\n",
       " 'q': 51,\n",
       " 'oh': 58,\n",
       " 'god': 24,\n",
       " 'pure': 6,\n",
       " 'unadulterated': 2,\n",
       " 'easier': 8,\n",
       " 'browse': 2,\n",
       " 'event': 89,\n",
       " 'website': 41,\n",
       " 'okay': 5,\n",
       " 'really': 102,\n",
       " 'yay': 11,\n",
       " '11': 30,\n",
       " 'kthxbai': 2,\n",
       " 'photo': 96,\n",
       " 'installed': 5,\n",
       " 'nice': 69,\n",
       " 'enjoying': 19,\n",
       " 'change': 19,\n",
       " 'gowalla': 33,\n",
       " '0': 26,\n",
       " 'forward': 29,\n",
       " 'seeing': 26,\n",
       " 'else': 39,\n",
       " 'sleeve': 4,\n",
       " 'smcdallas': 3,\n",
       " 'pre': 11,\n",
       " 'wed': 7,\n",
       " 'hoping': 10,\n",
       " 'win': 237,\n",
       " 'resulting': 3,\n",
       " 'shameless': 3,\n",
       " 'promotion': 5,\n",
       " 'chevysmc': 3,\n",
       " 'someone': 63,\n",
       " 'started': 23,\n",
       " 'group': 48,\n",
       " '4sq3': 3,\n",
       " 'look': 143,\n",
       " 'like': 275,\n",
       " 'going': 196,\n",
       " 'rock': 37,\n",
       " 'update': 83,\n",
       " 'push': 14,\n",
       " 'tonight': 71,\n",
       " 'keepaustinweird': 2,\n",
       " 'right': 106,\n",
       " 'sweeeeet': 2,\n",
       " 'job': 29,\n",
       " 'team': 94,\n",
       " 'may': 84,\n",
       " 'leave': 14,\n",
       " 'vuvuzela': 3,\n",
       " 'home': 32,\n",
       " 'attn': 3,\n",
       " 'frineds': 1,\n",
       " 'register': 24,\n",
       " 'gdgtlive': 1,\n",
       " 'see': 197,\n",
       " 'cobra': 2,\n",
       " 'iradar': 2,\n",
       " 'link': 3408,\n",
       " 'anyone': 105,\n",
       " 'want': 146,\n",
       " 'sell': 63,\n",
       " 'old': 28,\n",
       " 'bought': 33,\n",
       " 'older': 1,\n",
       " 'oooh': 2,\n",
       " 'launch': 640,\n",
       " 'major': 295,\n",
       " 'social': 600,\n",
       " 'network': 444,\n",
       " 'called': 343,\n",
       " 'circle': 641,\n",
       " 'possibly': 235,\n",
       " 'today': 519,\n",
       " 'ha': 17,\n",
       " 'first': 155,\n",
       " 'line': 427,\n",
       " 'quot': 1478,\n",
       " 'pop': 544,\n",
       " 'planner': 3,\n",
       " 'eventprofs': 2,\n",
       " 'pcma': 1,\n",
       " 'engage365': 1,\n",
       " 'spin': 10,\n",
       " 'play': 35,\n",
       " 'concept': 12,\n",
       " 'music': 87,\n",
       " 'discovery': 26,\n",
       " 'com': 76,\n",
       " 'false': 10,\n",
       " 'alarm': 16,\n",
       " 'probably': 33,\n",
       " 'ever': 73,\n",
       " 'vatornews': 1,\n",
       " 'force': 10,\n",
       " 'print': 13,\n",
       " 'medium': 62,\n",
       " 'evolve': 2,\n",
       " 'weather': 4,\n",
       " 'greet': 2,\n",
       " 'sweater': 2,\n",
       " 'night': 58,\n",
       " 'putting': 11,\n",
       " 'flash': 17,\n",
       " 'downtown': 214,\n",
       " 'hootsuite': 44,\n",
       " 'mobile': 335,\n",
       " 'blackberry': 95,\n",
       " 'whether': 3,\n",
       " 'getting': 71,\n",
       " 'friend': 73,\n",
       " 'hey': 79,\n",
       " 'long': 69,\n",
       " 'think': 162,\n",
       " 'take': 95,\n",
       " 'u': 204,\n",
       " 'make': 131,\n",
       " 'answer': 10,\n",
       " 'using': 109,\n",
       " 'zazzlesxsw': 25,\n",
       " 'one': 291,\n",
       " 'mashable': 49,\n",
       " 'video': 126,\n",
       " 'gadget': 30,\n",
       " 'pad': 2,\n",
       " 'ubersocial': 69,\n",
       " 'includes': 69,\n",
       " 'uberguide': 69,\n",
       " 'sponsored': 54,\n",
       " 'hand': 53,\n",
       " 'held': 7,\n",
       " 'hobo': 10,\n",
       " 'drafthouse': 3,\n",
       " 'shotgun': 6,\n",
       " 'hooray': 3,\n",
       " 'opening': 241,\n",
       " 'orly': 2,\n",
       " 'set': 139,\n",
       " 'wooooo': 3,\n",
       " 'open': 225,\n",
       " 'midnight': 13,\n",
       " 'khoi': 6,\n",
       " 'vinh': 8,\n",
       " 'say': 148,\n",
       " 'conde': 4,\n",
       " 'nast': 4,\n",
       " 'headlong': 2,\n",
       " 'rush': 4,\n",
       " 'publishing': 7,\n",
       " 'fundamental': 4,\n",
       " 'misunderstanding': 4,\n",
       " 'platform': 66,\n",
       " 'connect': 51,\n",
       " 'digital': 74,\n",
       " 'physical': 51,\n",
       " 'world': 96,\n",
       " 'talking': 38,\n",
       " 'effort': 7,\n",
       " 'allow': 6,\n",
       " 'system': 13,\n",
       " 'bettercloud': 5,\n",
       " 'tweet': 102,\n",
       " 'speak': 40,\n",
       " 'mark': 23,\n",
       " 'belinsky': 26,\n",
       " '911tweets': 22,\n",
       " 'panel': 144,\n",
       " '1st': 37,\n",
       " 'stop': 48,\n",
       " 'chaos': 2,\n",
       " 'hunt': 8,\n",
       " 'java': 3,\n",
       " 'get': 413,\n",
       " 'spy': 5,\n",
       " '4': 129,\n",
       " 'chance': 33,\n",
       " 'fun': 76,\n",
       " 'pic': 64,\n",
       " 'guy': 150,\n",
       " 'kawasaki': 20,\n",
       " 'talk': 123,\n",
       " 'enchanted': 3,\n",
       " 'internet': 29,\n",
       " 'futuremf': 3,\n",
       " 'spec': 2,\n",
       " 'recipe': 7,\n",
       " 'web': 77,\n",
       " 'search': 134,\n",
       " 'smile': 1,\n",
       " 'would': 118,\n",
       " 'lot': 73,\n",
       " 'interesting': 63,\n",
       " 'actually': 25,\n",
       " 'popped': 5,\n",
       " 'insane': 9,\n",
       " 'agree': 15,\n",
       " 'fiona': 5,\n",
       " 'town': 26,\n",
       " 'somebody': 7,\n",
       " 'kidnap': 3,\n",
       " 'put': 38,\n",
       " 'recording': 6,\n",
       " 'studio': 6,\n",
       " 'record': 9,\n",
       " 'album': 4,\n",
       " 'attending': 23,\n",
       " 'headache': 32,\n",
       " 'boooo': 2,\n",
       " 'flipboard': 58,\n",
       " 'developing': 10,\n",
       " 'version': 40,\n",
       " 'power': 40,\n",
       " 'sxswi': 270,\n",
       " 'value': 19,\n",
       " 'location': 127,\n",
       " 'based': 48,\n",
       " 'service': 60,\n",
       " 'battle': 9,\n",
       " 'fatigue': 3,\n",
       " 'pnid': 16,\n",
       " 'w': 235,\n",
       " 'band': 30,\n",
       " 'food': 37,\n",
       " 'art': 58,\n",
       " 'ice': 12,\n",
       " 'cream': 12,\n",
       " 'nifty': 4,\n",
       " 'interactive': 62,\n",
       " 'map': 239,\n",
       " 'news': 130,\n",
       " 'yahoo': 6,\n",
       " 'loosing': 2,\n",
       " 'traffic': 41,\n",
       " 'site': 38,\n",
       " 'doubt': 8,\n",
       " 'last': 108,\n",
       " 'tho': 4,\n",
       " 'weird': 14,\n",
       " 'name': 16,\n",
       " 'holla': 2,\n",
       " 'butt': 7,\n",
       " 'phone': 119,\n",
       " 'droid': 22,\n",
       " 'mac': 33,\n",
       " 'agnerd': 9,\n",
       " 'confession': 8,\n",
       " 'laptop': 63,\n",
       " 'follow': 42,\n",
       " 'post': 46,\n",
       " 'easy': 15,\n",
       " 'behaving': 2,\n",
       " 'crash': 6,\n",
       " 'yesterday': 25,\n",
       " 'ridiculous': 10,\n",
       " 'popup': 196,\n",
       " 'peek': 4,\n",
       " 'space': 25,\n",
       " 'slated': 4,\n",
       " 'tomorrow': 66,\n",
       " 'thing': 117,\n",
       " 'earth': 17,\n",
       " 'face': 7,\n",
       " 'company': 55,\n",
       " 'sxwsi': 1,\n",
       " 'thanks': 109,\n",
       " 'mention': 14,\n",
       " 'speech': 23,\n",
       " 'conf': 9,\n",
       " 'sxswh': 11,\n",
       " 'sxsh': 5,\n",
       " 'provide': 7,\n",
       " 'charger': 55,\n",
       " 'changed': 9,\n",
       " 'mind': 14,\n",
       " 'next': 134,\n",
       " 'wonder': 40,\n",
       " 'flashmob': 1,\n",
       " 'tcrn': 2,\n",
       " 'ch': 6,\n",
       " 'fcs45j': 1,\n",
       " 'xmas': 3,\n",
       " 'shiny': 12,\n",
       " 'christmas': 7,\n",
       " 'nerd': 43,\n",
       " 'yai': 1,\n",
       " 'cont': 40,\n",
       " 'fast': 57,\n",
       " 'future': 88,\n",
       " 'presenting': 6,\n",
       " 'local': 28,\n",
       " 'gsd': 21,\n",
       " 'industry': 32,\n",
       " 'welivehere': 6,\n",
       " 'gsdm': 58,\n",
       " 'buzz': 33,\n",
       " 'headline': 5,\n",
       " 'hmm': 13,\n",
       " 'could': 73,\n",
       " 'seen': 46,\n",
       " 'dataviz': 1,\n",
       " 'translates': 1,\n",
       " 'satanic': 1,\n",
       " 'sayin': 10,\n",
       " 'launched': 33,\n",
       " 'checkins': 26,\n",
       " 'month': 27,\n",
       " 'ago': 18,\n",
       " 'in': 15,\n",
       " 'ok': 20,\n",
       " 'out': 3,\n",
       " 'bizzy': 13,\n",
       " 'left': 53,\n",
       " 'brain': 39,\n",
       " 'x': 20,\n",
       " 'bettersearch': 13,\n",
       " 'engine': 19,\n",
       " 'c': 13,\n",
       " 'lewis': 2,\n",
       " 'level': 6,\n",
       " 'reasoning': 1,\n",
       " 'continued': 8,\n",
       " 'existence': 14,\n",
       " 'evidence': 6,\n",
       " 'bawling': 1,\n",
       " 'pagemaker': 5,\n",
       " 'saved': 16,\n",
       " 'jwtatl': 3,\n",
       " 'enchantment': 20,\n",
       " 'spark': 5,\n",
       " 'teamandroid': 8,\n",
       " 'award': 26,\n",
       " 'read': 33,\n",
       " 'unboxing': 8,\n",
       " 'thought': 35,\n",
       " 'japan': 92,\n",
       " 'apac': 1,\n",
       " 'region': 2,\n",
       " 'dealing': 2,\n",
       " 'earthquake': 27,\n",
       " 'tsunami': 9,\n",
       " 'trauma': 1,\n",
       " 'school': 45,\n",
       " 'marketing': 64,\n",
       " 'expert': 37,\n",
       " 'cnet': 25,\n",
       " 'blog': 35,\n",
       " 'temporary': 253,\n",
       " 'def': 6,\n",
       " 'tent': 3,\n",
       " 'powerhouse': 2,\n",
       " 'gym': 9,\n",
       " '6th': 89,\n",
       " 'congress': 100,\n",
       " 'along': 9,\n",
       " '10': 66,\n",
       " '000': 22,\n",
       " 'happy': 38,\n",
       " 'hipster': 33,\n",
       " 'support': 14,\n",
       " 'funny': 23,\n",
       " 'trending': 8,\n",
       " 'matter': 11,\n",
       " 'minute': 29,\n",
       " 'point': 26,\n",
       " 'least': 22,\n",
       " 'according': 9,\n",
       " 'twitter': 94,\n",
       " 'christian': 2,\n",
       " 'devs': 11,\n",
       " 'maybe': 28,\n",
       " 'wk': 3,\n",
       " 'together': 17,\n",
       " 'cool': 139,\n",
       " 'taken': 7,\n",
       " 'storm': 2,\n",
       " 'part': 20,\n",
       " 'haz': 2,\n",
       " 'ifrom': 1,\n",
       " 'gr8': 4,\n",
       " 'stack': 3,\n",
       " 'waiting': 47,\n",
       " 'mine': 11,\n",
       " 'hassle': 1,\n",
       " 'handled': 1,\n",
       " 'perfectly': 4,\n",
       " 'elusive': 8,\n",
       " 'eurorscg': 2,\n",
       " 'smallbiz': 5,\n",
       " 'place': 61,\n",
       " 'seo': 29,\n",
       " 'samsung': 18,\n",
       " 'sony': 10,\n",
       " 'hp': 13,\n",
       " 'lead': 6,\n",
       " 'atx': 23,\n",
       " 'rg': 1,\n",
       " 'south': 30,\n",
       " 'korean': 1,\n",
       " 'director': 5,\n",
       " '130': 2,\n",
       " 'movie': 12,\n",
       " 'entirely': 4,\n",
       " 'beautiful': 9,\n",
       " 'q1': 1,\n",
       " 'prep': 5,\n",
       " 'amazing': 42,\n",
       " 'locally': 1,\n",
       " 'focus': 11,\n",
       " 'owns': 5,\n",
       " 'billboard': 5,\n",
       " 'pr20chat': 1,\n",
       " 'account': 8,\n",
       " 'download': 58,\n",
       " 'headed': 13,\n",
       " 'share': 42,\n",
       " 'gather': 2,\n",
       " 'contact': 13,\n",
       " 'info': 42,\n",
       " 'turn': 30,\n",
       " 'business': 34,\n",
       " 'card': 27,\n",
       " 'broadcaster': 1,\n",
       " 'btw': 3,\n",
       " 'sold': 42,\n",
       " 'model': 15,\n",
       " 'vzw': 3,\n",
       " 'sneaky': 2,\n",
       " 'usual': 3,\n",
       " 'hopping': 3,\n",
       " 'beta': 21,\n",
       " 'testing': 10,\n",
       " 'moonbot': 3,\n",
       " 'louisiana': 3,\n",
       " 'ton': 15,\n",
       " 'wondering': 20,\n",
       " 'worth': 18,\n",
       " 'trek': 1,\n",
       " 'convention': 44,\n",
       " 'center': 40,\n",
       " 'everything': 30,\n",
       " 'except': 19,\n",
       " '64gig': 11,\n",
       " 'wifi': 34,\n",
       " 'white': 58,\n",
       " 'manage': 3,\n",
       " 'known': 6,\n",
       " 'jean': 5,\n",
       " 'configuration': 1,\n",
       " 'offered': 2,\n",
       " 'promo': 10,\n",
       " 'ninjafinder': 2,\n",
       " 'suck': 17,\n",
       " 'film': 17,\n",
       " 'selling': 29,\n",
       " 'shipment': 7,\n",
       " 'ipads': 86,\n",
       " 'yet': 55,\n",
       " 'marc': 3,\n",
       " 'ecko': 3,\n",
       " 'autodial': 2,\n",
       " 'political': 2,\n",
       " 'edreform': 2,\n",
       " 'edtech': 4,\n",
       " 'eduvc': 2,\n",
       " 'fightthepaddle': 3,\n",
       " 'lonelyplanet': 1,\n",
       " 'guide': 45,\n",
       " 'limited': 12,\n",
       " 'lp': 21,\n",
       " 'travel': 21,\n",
       " 'heading': 46,\n",
       " 'aclu': 30,\n",
       " 'owt': 1,\n",
       " 'prompt': 2,\n",
       " 'memory': 3,\n",
       " 'go': 207,\n",
       " 'describe': 1,\n",
       " 'childhood': 2,\n",
       " 'walk': 14,\n",
       " 'short': 10,\n",
       " 'tradeshow': 13,\n",
       " 'demo': 55,\n",
       " 'theatre': 4,\n",
       " 'presenter': 5,\n",
       " 'following': 10,\n",
       " 'realtime': 12,\n",
       " 'four': 7,\n",
       " 'deck': 6,\n",
       " 'listening': 31,\n",
       " 'realizing': 2,\n",
       " 'spoken': 2,\n",
       " 'pick': 19,\n",
       " 'willing': 6,\n",
       " 'pay': 19,\n",
       " '50': 16,\n",
       " 'grab': 17,\n",
       " 'quick': 7,\n",
       " 'hundred': 7,\n",
       " 'ad': 25,\n",
       " 'hoc': 2,\n",
       " 'cost': 4,\n",
       " 'solving': 5,\n",
       " 'induced': 1,\n",
       " 'toilet': 1,\n",
       " 'crisis': 3,\n",
       " 'monday': 5,\n",
       " 'barry': 21,\n",
       " 'diller': 32,\n",
       " 'york': 7,\n",
       " 'lunch': 9,\n",
       " 'hotel': 14,\n",
       " 'six': 10,\n",
       " 'dirty': 2,\n",
       " 'martini': 1,\n",
       " 'seriously': 11,\n",
       " 'constant': 3,\n",
       " 'causing': 3,\n",
       " 'lost': 30,\n",
       " 'schedule': 24,\n",
       " 'sync': 8,\n",
       " 'wp7': 8,\n",
       " 'ready': 63,\n",
       " 'ur': 20,\n",
       " 'blogging': 8,\n",
       " 'conflagration': 1,\n",
       " 'doofusness': 1,\n",
       " 'attention': 9,\n",
       " 'er': 9,\n",
       " 'rumored': 19,\n",
       " 'went': 19,\n",
       " 'lousy': 1,\n",
       " 'work': 80,\n",
       " 'development': 18,\n",
       " 'hire': 8,\n",
       " 'io': 37,\n",
       " 'developer': 54,\n",
       " 'man': 37,\n",
       " 'let': 79,\n",
       " 'winning': 55,\n",
       " 'picture': 27,\n",
       " '7': 49,\n",
       " 'hit': 23,\n",
       " 'spent': 15,\n",
       " 'already': 64,\n",
       " 'used': 38,\n",
       " 'couple': 11,\n",
       " 'city': 22,\n",
       " 'block': 64,\n",
       " 'behind': 25,\n",
       " '100': 19,\n",
       " 'email': 11,\n",
       " 'give': 54,\n",
       " 'composed': 5,\n",
       " 'reply': 4,\n",
       " 'protip': 9,\n",
       " '10pm': 1,\n",
       " 'ipad2s': 14,\n",
       " '150': 26,\n",
       " 'million': 41,\n",
       " 'currently': 9,\n",
       " 'available': 47,\n",
       " '64gb': 10,\n",
       " '699': 1,\n",
       " 'optional': 1,\n",
       " 'leather': 2,\n",
       " 'cover': 9,\n",
       " '69': 1,\n",
       " 'le': 17,\n",
       " 'announce': 9,\n",
       " 'detail': 68,\n",
       " 'giveaway': 36,\n",
       " 'wild': 8,\n",
       " 'terrible': 3,\n",
       " 'queue': 28,\n",
       " 'course': 21,\n",
       " 'snapping': 1,\n",
       " 'away': 73,\n",
       " 'keynote': 26,\n",
       " 'slide': 5,\n",
       " '200m': 1,\n",
       " 'credit': 15,\n",
       " 'click': 9,\n",
       " 'purchase': 15,\n",
       " '2nd': 12,\n",
       " 'cocktail': 3,\n",
       " 'texas': 42,\n",
       " 'snowflake': 1,\n",
       " 'cnngrill': 7,\n",
       " 'southwest': 17,\n",
       " 'sweet': 26,\n",
       " 'ballroom': 30,\n",
       " '35': 9,\n",
       " 'mile': 17,\n",
       " 'per': 23,\n",
       " 'driving': 10,\n",
       " 'navigation': 49,\n",
       " 'p': 26,\n",
       " 'longer': 13,\n",
       " 'wider': 2,\n",
       " '250': 1,\n",
       " 'packing': 10,\n",
       " 'extra': 12,\n",
       " 'way': 87,\n",
       " 'sunny': 5,\n",
       " 'stow': 1,\n",
       " '4sqwill': 1,\n",
       " 'attempt': 3,\n",
       " 'cross': 4,\n",
       " 'facebook': 84,\n",
       " 'blocked': 2,\n",
       " 'connection': 5,\n",
       " 'lbswars': 1,\n",
       " 'wandering': 3,\n",
       " 'street': 49,\n",
       " 'girl': 22,\n",
       " 'stopped': 6,\n",
       " 'ceviche': 1,\n",
       " 'mojitos': 1,\n",
       " 'juice': 22,\n",
       " 'track': 20,\n",
       " 'audience': 21,\n",
       " 'stage': 9,\n",
       " 'use': 117,\n",
       " 'frostwire': 5,\n",
       " 'wi': 6,\n",
       " 'fi': 7,\n",
       " 'busy': 18,\n",
       " 'week': 92,\n",
       " 'ahead': 7,\n",
       " 'amazon': 9,\n",
       " 'believe': 17,\n",
       " 'aussie': 1,\n",
       " '70': 14,\n",
       " 'buyer': 8,\n",
       " 'report': 28,\n",
       " 'spreadsheet': 7,\n",
       " '270': 3,\n",
       " 'o_o': 2,\n",
       " 'plan': 32,\n",
       " 'sixth': 11,\n",
       " 'told': 11,\n",
       " 'car': 18,\n",
       " 'zimride': 1,\n",
       " 'etc': 25,\n",
       " 'ride': 4,\n",
       " 'shareable': 2,\n",
       " 'tablet': 54,\n",
       " 'every': 64,\n",
       " 'single': 11,\n",
       " 'receiving': 2,\n",
       " 'message': 7,\n",
       " 'telling': 3,\n",
       " 'sexy': 3,\n",
       " 'response': 9,\n",
       " 'fellow': 7,\n",
       " 'picked': 19,\n",
       " 'mophie': 15,\n",
       " 'battery': 55,\n",
       " 'lugging': 2,\n",
       " 'huge': 32,\n",
       " 'thats': 4,\n",
       " 'took': 22,\n",
       " 'piss': 2,\n",
       " 'trade': 29,\n",
       " 'pissing': 2,\n",
       " 'kiiiiiilling': 2,\n",
       " 'rumor': 128,\n",
       " 'monger': 1,\n",
       " '_': 60,\n",
       " 'preview': 38,\n",
       " 'socbiz': 2,\n",
       " 'fb': 65,\n",
       " 'yes': 68,\n",
       " 'please': 66,\n",
       " 'build': 6,\n",
       " '24': 16,\n",
       " 'biggest': 13,\n",
       " 'history': 10,\n",
       " 'survey': 3,\n",
       " 'starbucks': 7,\n",
       " 'gift': 10,\n",
       " 'instant': 8,\n",
       " 'research': 5,\n",
       " 'gratification': 3,\n",
       " 'retail': 23,\n",
       " 'release': 45,\n",
       " '5pm': 18,\n",
       " 'groupme': 10,\n",
       " 'sound': 22,\n",
       " 'incredible': 2,\n",
       " 'reveal': 8,\n",
       " 'closure': 4,\n",
       " 'made': 65,\n",
       " 'another': 43,\n",
       " 'question': 33,\n",
       " 'inside': 14,\n",
       " 'fire': 12,\n",
       " 'paraormal': 1,\n",
       " 'activity': 6,\n",
       " 'sanctuary': 1,\n",
       " 'sketching': 1,\n",
       " 'ar': 4,\n",
       " 'experience': 32,\n",
       " 'interactivity': 1,\n",
       " 'magic': 8,\n",
       " 'lense': 1,\n",
       " 'eduar': 2,\n",
       " 'iie': 1,\n",
       " '85': 2,\n",
       " 'si': 2,\n",
       " 'swimsuit': 1,\n",
       " 'issue': 21,\n",
       " 'garage': 2,\n",
       " 'add': 10,\n",
       " 'instagram': 9,\n",
       " 'socialsearch': 1,\n",
       " 'botch': 1,\n",
       " 'timechange': 1,\n",
       " 'freak': 3,\n",
       " 'missed': 11,\n",
       " 'bloody': 6,\n",
       " 'mary': 3,\n",
       " 'shout': 6,\n",
       " 'lady': 12,\n",
       " 'holding': 17,\n",
       " 'sipping': 1,\n",
       " 'beer': 6,\n",
       " 'cc': 51,\n",
       " 'dj': 22,\n",
       " 'hoodie': 1,\n",
       " 'allen': 1,\n",
       " 'due': 8,\n",
       " 'respect': 6,\n",
       " 'back': 78,\n",
       " 'meant': 7,\n",
       " 'wish': 31,\n",
       " 'dyac': 1,\n",
       " 'stupid': 18,\n",
       " 'audioboo': 4,\n",
       " 'american': 4,\n",
       " 'dream': 6,\n",
       " 'bust': 1,\n",
       " 'bum': 1,\n",
       " 'begger': 1,\n",
       " 'socialart': 1,\n",
       " 'documentally': 1,\n",
       " 'skifta': 1,\n",
       " 'shifting': 1,\n",
       " 'sign': 35,\n",
       " 'security': 25,\n",
       " 'lock': 7,\n",
       " 'curated': 4,\n",
       " '15': 28,\n",
       " 'brilliant': 31,\n",
       " 'enlightening': 1,\n",
       " 'mechanic': 4,\n",
       " 'presentation': 36,\n",
       " 'sitting': 21,\n",
       " 'tree': 5,\n",
       " 'unsix': 2,\n",
       " 'thirsty': 4,\n",
       " 'chevy': 6,\n",
       " 'volt': 3,\n",
       " 'lounge': 25,\n",
       " '16': 4,\n",
       " 'others': 64,\n",
       " 'came': 14,\n",
       " 'playing': 32,\n",
       " 'song': 22,\n",
       " 'chosen': 1,\n",
       " 'random': 13,\n",
       " 'skream': 1,\n",
       " 'wall': 7,\n",
       " 'appropriate': 1,\n",
       " 'genius': 29,\n",
       " 'arduino': 5,\n",
       " 'flaming': 4,\n",
       " 'skull': 4,\n",
       " 'refrigerator': 6,\n",
       " 'speaks': 5,\n",
       " 'salon': 14,\n",
       " 'k': 5,\n",
       " '30pm': 27,\n",
       " 'smartthings': 4,\n",
       " 'reminder': 10,\n",
       " 'chrome': 16,\n",
       " 'tt': 2,\n",
       " 'pm': 23,\n",
       " 'v': 70,\n",
       " 'backupify': 2,\n",
       " 'announces': 12,\n",
       " 'cloudsight': 2,\n",
       " 'searchable': 2,\n",
       " 'archive': 4,\n",
       " 'solution': 12,\n",
       " 'announcing': 10,\n",
       " 'myopia': 1,\n",
       " 'cause': 9,\n",
       " 'joke': 12,\n",
       " 'dictaphone': 1,\n",
       " 'vid': 5,\n",
       " 'camera': 34,\n",
       " 'wow': 57,\n",
       " 'real': 28,\n",
       " 'cerebellum': 1,\n",
       " 'charged': 8,\n",
       " 'anything': 25,\n",
       " 'personal': 5,\n",
       " '5': 90,\n",
       " 'prop': 4,\n",
       " 'found': 38,\n",
       " 'kyping': 2,\n",
       " 'geolocation': 4,\n",
       " 'releasing': 5,\n",
       " 'background': 3,\n",
       " 'patch': 2,\n",
       " 'batterykiller': 3,\n",
       " 'live': 63,\n",
       " 'rsvp': 8,\n",
       " 'sundayswagger': 1,\n",
       " 'eventbrite': 1,\n",
       " '20': 34,\n",
       " 'scoremore': 1,\n",
       " 'screen': 43,\n",
       " 'missing': 13,\n",
       " 'nut': 7,\n",
       " 'packed': 26,\n",
       " '30': 47,\n",
       " 'breaking': 7,\n",
       " 'partnership': 4,\n",
       " 'porn': 5,\n",
       " 'chat': 15,\n",
       " 'facetime': 7,\n",
       " 'built': 30,\n",
       " 'temp': 74,\n",
       " 'understand': 8,\n",
       " 'corralling': 1,\n",
       " 'cattle': 1,\n",
       " 'pickmeupanipad2': 1,\n",
       " 'something': 40,\n",
       " 'near': 18,\n",
       " 'keep': 54,\n",
       " 'surprise': 20,\n",
       " 'opened': 23,\n",
       " 'technews': 6,\n",
       " 'head': 41,\n",
       " 'tech_news': 5,\n",
       " 'ipad_2': 4,\n",
       " ...}"
      ]
     },
     "execution_count": 26,
     "metadata": {},
     "output_type": "execute_result"
    }
   ],
   "source": [
    "def count_vectorize(tokenized_list):  # Define the function with a list of tokenized tweets as input\n",
    "    corpus = {}  # Initialize an empty dictionary to store word counts\n",
    "    \n",
    "    for tokenized in tokenized_list:  # Iterate over each tokenized tweet\n",
    "        for word in tokenized:  # Iterate over each word in the tokenized tweet\n",
    "            if word in corpus:  # If the word is already in the dictionary\n",
    "                corpus[word] += 1  # Increment its count by 1\n",
    "            else:  # If the word is not in the dictionary\n",
    "                corpus[word] = 1  # Add it to the dictionary with a count of 1\n",
    "\n",
    "    return corpus  # Return the dictionary containing word counts\n",
    "\n",
    "# Vectorize the tokenized tweets\n",
    "text_vectorized = count_vectorize(df['tokenized_tweets'])  # Call the function and store the result\n",
    "text_vectorized  # Output the resulting dictionary"
   ]
  },
  {
   "cell_type": "markdown",
   "metadata": {},
   "source": [
    "checking frequency of words"
   ]
  },
  {
   "cell_type": "code",
   "execution_count": 27,
   "metadata": {},
   "outputs": [
    {
     "data": {
      "text/html": [
       "<div>\n",
       "<style scoped>\n",
       "    .dataframe tbody tr th:only-of-type {\n",
       "        vertical-align: middle;\n",
       "    }\n",
       "\n",
       "    .dataframe tbody tr th {\n",
       "        vertical-align: top;\n",
       "    }\n",
       "\n",
       "    .dataframe thead th {\n",
       "        text-align: right;\n",
       "    }\n",
       "</style>\n",
       "<table border=\"1\" class=\"dataframe\">\n",
       "  <thead>\n",
       "    <tr style=\"text-align: right;\">\n",
       "      <th></th>\n",
       "      <th>Word</th>\n",
       "      <th>Frequency</th>\n",
       "    </tr>\n",
       "  </thead>\n",
       "  <tbody>\n",
       "    <tr>\n",
       "      <th>0</th>\n",
       "      <td>3g</td>\n",
       "      <td>29</td>\n",
       "    </tr>\n",
       "    <tr>\n",
       "      <th>1</th>\n",
       "      <td>iphone</td>\n",
       "      <td>1492</td>\n",
       "    </tr>\n",
       "    <tr>\n",
       "      <th>2</th>\n",
       "      <td>3</td>\n",
       "      <td>143</td>\n",
       "    </tr>\n",
       "    <tr>\n",
       "      <th>3</th>\n",
       "      <td>hr</td>\n",
       "      <td>5</td>\n",
       "    </tr>\n",
       "    <tr>\n",
       "      <th>4</th>\n",
       "      <td>tweeting</td>\n",
       "      <td>28</td>\n",
       "    </tr>\n",
       "    <tr>\n",
       "      <th>...</th>\n",
       "      <td>...</td>\n",
       "      <td>...</td>\n",
       "    </tr>\n",
       "    <tr>\n",
       "      <th>8027</th>\n",
       "      <td>complained</td>\n",
       "      <td>1</td>\n",
       "    </tr>\n",
       "    <tr>\n",
       "      <th>8028</th>\n",
       "      <td>yorkers</td>\n",
       "      <td>1</td>\n",
       "    </tr>\n",
       "    <tr>\n",
       "      <th>8029</th>\n",
       "      <td>ϡ</td>\n",
       "      <td>1</td>\n",
       "    </tr>\n",
       "    <tr>\n",
       "      <th>8030</th>\n",
       "      <td>ʋ</td>\n",
       "      <td>1</td>\n",
       "    </tr>\n",
       "    <tr>\n",
       "      <th>8031</th>\n",
       "      <td>ҋ</td>\n",
       "      <td>1</td>\n",
       "    </tr>\n",
       "  </tbody>\n",
       "</table>\n",
       "<p>8032 rows × 2 columns</p>\n",
       "</div>"
      ],
      "text/plain": [
       "            Word  Frequency\n",
       "0             3g         29\n",
       "1         iphone       1492\n",
       "2              3        143\n",
       "3             hr          5\n",
       "4       tweeting         28\n",
       "...          ...        ...\n",
       "8027  complained          1\n",
       "8028     yorkers          1\n",
       "8029           ϡ          1\n",
       "8030           ʋ          1\n",
       "8031           ҋ          1\n",
       "\n",
       "[8032 rows x 2 columns]"
      ]
     },
     "execution_count": 27,
     "metadata": {},
     "output_type": "execute_result"
    }
   ],
   "source": [
    "freq_df = pd.DataFrame(list(text_vectorized.items()), columns=['Word', 'Frequency'])\n",
    "freq_df"
   ]
  },
  {
   "cell_type": "markdown",
   "metadata": {},
   "source": [
    "Let's visualize the tope 20 most frequent words"
   ]
  },
  {
   "cell_type": "code",
   "execution_count": 28,
   "metadata": {
    "scrolled": true
   },
   "outputs": [
    {
     "data": {
      "image/png": "[encoded data removed]",
      "text/plain": [
       "<Figure size 720x432 with 1 Axes>"
      ]
     },
     "metadata": {
      "needs_background": "light"
     },
     "output_type": "display_data"
    }
   ],
   "source": [
    "# Convert the word frequency dictionary to a DataFrame\n",
    "freq_df = pd.DataFrame(list(text_vectorized.items()), columns=['Word', 'Frequency'])\n",
    "\n",
    "# Sort the DataFrame by frequency\n",
    "freq_df = freq_df.sort_values(by='Frequency', ascending=False)\n",
    "\n",
    "# Plotting\n",
    "plt.figure(figsize=(10, 6))\n",
    "sns.barplot(x='Frequency', y='Word', data=freq_df.head(20), palette='viridis')\n",
    "plt.title('Top 20 Most Frequent Words')\n",
    "plt.xlabel('Frequency')\n",
    "plt.ylabel('Words')\n",
    "plt.show()"
   ]
  },
  {
   "cell_type": "markdown",
   "metadata": {},
   "source": [
    "Now we can take a look at this a different way- let's look at the normalized frequency of each word"
   ]
  },
  {
   "cell_type": "code",
   "execution_count": 29,
   "metadata": {
    "scrolled": true
   },
   "outputs": [
    {
     "name": "stdout",
     "output_type": "stream",
     "text": [
      "Total word count: 92923\n",
      "Word       Normalized Frequency\n",
      "sxsw       0.089580\n",
      "link       0.036676\n",
      "rt         0.028389\n",
      "google     0.026915\n",
      "ipad       0.025796\n",
      "apple      0.023460\n",
      "iphone     0.016056\n",
      "quot       0.015906\n",
      "store      0.015238\n",
      "2          0.012483\n",
      "new        0.010977\n",
      "austin     0.009147\n",
      "app        0.008082\n",
      "amp        0.007695\n",
      "circle     0.006898\n",
      "launch     0.006887\n",
      "social     0.006457\n",
      "android    0.006037\n",
      "pop        0.005854\n",
      "today      0.005585\n",
      "network    0.004778\n",
      "ipad2      0.004617\n",
      "line       0.004595\n",
      "get        0.004445\n",
      "via        0.003928\n",
      "called     0.003691\n",
      "mobile     0.003605\n",
      "party      0.003594\n",
      "major      0.003175\n",
      "one        0.003132\n",
      "like       0.002959\n",
      "time       0.002927\n",
      "sxswi      0.002906\n",
      "temporary  0.002723\n",
      "day        0.002712\n",
      "free       0.002604\n",
      "opening    0.002594\n",
      "map        0.002572\n",
      "win        0.002550\n",
      "possibly   0.002529\n",
      "w          0.002529\n",
      "open       0.002421\n",
      "check      0.002368\n",
      "need       0.002346\n",
      "people     0.002346\n",
      "downtown   0.002303\n",
      "go         0.002228\n",
      "u          0.002195\n",
      "mayer      0.002185\n",
      "come       0.002163\n"
     ]
    }
   ],
   "source": [
    "# Calculate the total number of tokens\n",
    "total_word_count = freq_df['Frequency'].sum()\n",
    "\n",
    "# Print the total number of tokens\n",
    "print(\"Total word count:\", total_word_count)\n",
    "\n",
    "# Extract the top 50 most common words\n",
    "df_top_50 = freq_df.head(50)\n",
    "\n",
    "# Print the top 50 words and their normalized frequencies\n",
    "print(f'{\"Word\":10} Normalized Frequency')\n",
    "for word in df_top_50.iterrows():\n",
    "    normalized_frequency = word[1]['Frequency'] / total_word_count\n",
    "    print(f'{word[1][\"Word\"]:10} {normalized_frequency:.6f}')\n"
   ]
  },
  {
   "cell_type": "markdown",
   "metadata": {},
   "source": [
    "This tells us that SXSW is the most commonly occuring word.  Another interesting thing to notice is the order in which our main brands/product appear.  This is the percentage of words that in the corpus that are the specific word.  So out of nearly 100,000 words-8.9% of them are sxsw.\n",
    "\n",
    "* google     2.6915%  \n",
    "* ipad       2.5796%  \n",
    "* apple      2.3460%  \n",
    "* iphone     1.6056%\n",
    "* android    0.6037%"
   ]
  },
  {
   "cell_type": "markdown",
   "metadata": {},
   "source": [
    "Let's get a total count for how many tweets talk about each specific brand.  Remmeber there are 7984 tweets with a specific brand focus."
   ]
  },
  {
   "cell_type": "code",
   "execution_count": 30,
   "metadata": {},
   "outputs": [
    {
     "data": {
      "text/plain": [
       "2289"
      ]
     },
     "execution_count": 30,
     "metadata": {},
     "output_type": "execute_result"
    }
   ],
   "source": [
    "# Calculating the total count of tweets directed at Google\n",
    "google_count = df[df['brand'] == 'Google']['brand'].count()\n",
    "google_count"
   ]
  },
  {
   "cell_type": "code",
   "execution_count": 31,
   "metadata": {},
   "outputs": [
    {
     "data": {
      "text/plain": [
       "0.2920387854044399"
      ]
     },
     "execution_count": 31,
     "metadata": {},
     "output_type": "execute_result"
    }
   ],
   "source": [
    "# Calculating percentage of tweets that are about Google\n",
    "google_count = df['brand'].value_counts().get('Google', 0)\n",
    "total_count = df['brand'].count()\n",
    "google_percent = google_count / total_count\n",
    "google_percent\n"
   ]
  },
  {
   "cell_type": "code",
   "execution_count": 32,
   "metadata": {},
   "outputs": [
    {
     "data": {
      "text/plain": [
       "1764"
      ]
     },
     "execution_count": 32,
     "metadata": {},
     "output_type": "execute_result"
    }
   ],
   "source": [
    "# Calculating the total count of tweets directed at Apple\n",
    "apple_count = df[df['brand'] == 'Apple']['brand'].count()\n",
    "apple_count"
   ]
  },
  {
   "cell_type": "code",
   "execution_count": 33,
   "metadata": {},
   "outputs": [
    {
     "data": {
      "text/plain": [
       "0.22505741260525644"
      ]
     },
     "execution_count": 33,
     "metadata": {},
     "output_type": "execute_result"
    }
   ],
   "source": [
    "# Calculating percentage of tweets that are about Apple\n",
    "apple_count = df['brand'].value_counts().get('Apple', 0)\n",
    "total_count = df['brand'].count()\n",
    "apple_percent = apple_count / total_count\n",
    "apple_percent\n"
   ]
  },
  {
   "cell_type": "code",
   "execution_count": 34,
   "metadata": {},
   "outputs": [
    {
     "data": {
      "text/plain": [
       "2346"
      ]
     },
     "execution_count": 34,
     "metadata": {},
     "output_type": "execute_result"
    }
   ],
   "source": [
    "# Calculating the total count of tweets directed at iPad\n",
    "iPad_count = df[df['brand'] == 'iPad']['brand'].count()\n",
    "iPad_count"
   ]
  },
  {
   "cell_type": "code",
   "execution_count": 35,
   "metadata": {},
   "outputs": [
    {
     "data": {
      "text/plain": [
       "0.29931104873692266"
      ]
     },
     "execution_count": 35,
     "metadata": {},
     "output_type": "execute_result"
    }
   ],
   "source": [
    "# Calculating percentage of tweets that are about iPad\n",
    "iPad_count = df['brand'].value_counts().get('iPad', 0)\n",
    "total_count = df['brand'].count()\n",
    "iPad_percent = iPad_count / total_count\n",
    "iPad_percent\n"
   ]
  },
  {
   "cell_type": "code",
   "execution_count": 36,
   "metadata": {},
   "outputs": [
    {
     "data": {
      "text/plain": [
       "934"
      ]
     },
     "execution_count": 36,
     "metadata": {},
     "output_type": "execute_result"
    }
   ],
   "source": [
    "# Calculating the total count of tweets directed at iPhone\n",
    "iPhone_count = df[df['brand'] == 'iPhone']['brand'].count()\n",
    "iPhone_count"
   ]
  },
  {
   "cell_type": "code",
   "execution_count": 37,
   "metadata": {},
   "outputs": [
    {
     "data": {
      "text/plain": [
       "0.1191630517989283"
      ]
     },
     "execution_count": 37,
     "metadata": {},
     "output_type": "execute_result"
    }
   ],
   "source": [
    "# Calculating percentage of tweets that are about iPhone\n",
    "iPhone_count = df['brand'].value_counts().get('iPhone', 0)\n",
    "total_count = df['brand'].count()\n",
    "iPhone_percent = iPhone_count / total_count\n",
    "iPhone_percent\n"
   ]
  },
  {
   "cell_type": "code",
   "execution_count": 38,
   "metadata": {
    "scrolled": true
   },
   "outputs": [
    {
     "data": {
      "text/plain": [
       "505"
      ]
     },
     "execution_count": 38,
     "metadata": {},
     "output_type": "execute_result"
    }
   ],
   "source": [
    "# Calculating the total count of tweets directed at Android\n",
    "Android_count = df[df['brand'] == 'Android']['brand'].count()\n",
    "Android_count"
   ]
  },
  {
   "cell_type": "code",
   "execution_count": 39,
   "metadata": {},
   "outputs": [
    {
     "data": {
      "text/plain": [
       "0.06442970145445266"
      ]
     },
     "execution_count": 39,
     "metadata": {},
     "output_type": "execute_result"
    }
   ],
   "source": [
    "# Calculating percentage of tweets that are about Android\n",
    "Android_count = df['brand'].value_counts().get('Android', 0)\n",
    "total_count = df['brand'].count()\n",
    "Android_percent = Android_count / total_count\n",
    "Android_percent\n"
   ]
  },
  {
   "cell_type": "markdown",
   "metadata": {},
   "source": [
    "Now let's take a look at the histogram of TF-IDF Values for the 50 most common words\n"
   ]
  },
  {
   "cell_type": "code",
   "execution_count": 40,
   "metadata": {
    "scrolled": false
   },
   "outputs": [
    {
     "data": {
      "image/png": "[encoded data removed]",
      "text/plain": [
       "<Figure size 720x432 with 1 Axes>"
      ]
     },
     "metadata": {
      "needs_background": "light"
     },
     "output_type": "display_data"
    }
   ],
   "source": [
    "# Ensure 'cleaned_tweet' column is of string type\n",
    "df['cleaned_tweet'] = df['cleaned_tweet'].astype(str)\n",
    "\n",
    "# Apply the clean_tweet function to each entry in the 'cleaned_tweet' column\n",
    "df['cleaned_text'] = df['cleaned_tweet'].apply(clean_tweet)\n",
    "\n",
    "# Convert the cleaned text column to a list\n",
    "text_data = df['cleaned_text'].tolist()\n",
    "\n",
    "# Initialize a CountVectorizer with a maximum of 50 features\n",
    "count_vectorizer = CountVectorizer(max_features=50)\n",
    "\n",
    "# Fit and transform the text data to a document-term matrix\n",
    "X_counts = count_vectorizer.fit_transform(text_data)\n",
    "\n",
    "# Get the most common words (features) from the count vectorizer\n",
    "common_words = count_vectorizer.get_feature_names_out()\n",
    "\n",
    "# Initialize a TfidfVectorizer with the common words as vocabulary\n",
    "vectorizer_tfid = TfidfVectorizer(vocabulary=common_words)\n",
    "\n",
    "# Fit and transform the text data to a TF-IDF matrix\n",
    "X_tfid = vectorizer_tfid.fit_transform(text_data)\n",
    "\n",
    "# Convert the TF-IDF matrix to an array\n",
    "tfidf_matrix = X_tfid.toarray()\n",
    "\n",
    "# Get the feature names (words) from the TF-IDF vectorizer\n",
    "feature_names = vectorizer_tfid.get_feature_names_out()\n",
    "\n",
    "# Sum the TF-IDF values for each feature across all documents\n",
    "tfidf_sums = np.sum(tfidf_matrix, axis=0)\n",
    "\n",
    "# Plot a histogram of the TF-IDF values for the 50 most common words\n",
    "plt.figure(figsize=(10, 6))\n",
    "plt.bar(feature_names, tfidf_sums, color='skyblue')\n",
    "plt.xlabel('Features')\n",
    "plt.ylabel('TF-IDF Sum')\n",
    "plt.title('Histogram of TF-IDF Values for the 50 Most Common Words')\n",
    "plt.xticks(rotation=90) \n",
    "plt.show()  \n"
   ]
  },
  {
   "cell_type": "markdown",
   "metadata": {},
   "source": [
    "Let's add Part of Speech Tagging here as well.  This is another level preprocessing and can improve our model."
   ]
  },
  {
   "cell_type": "code",
   "execution_count": 41,
   "metadata": {},
   "outputs": [],
   "source": [
    "def pos_tagging(text):\n",
    "    # Tokenize the input text into individual words\n",
    "    words = nltk.word_tokenize(text)\n",
    "    \n",
    "    # Assign part-of-speech tags to each word\n",
    "    pos_tags = nltk.pos_tag(words)\n",
    "    \n",
    "    # Format each word and its POS tag as 'word_tag' and join them into a single string\n",
    "    return ' '.join([f\"{word}_{tag}\" for word, tag in pos_tags])\n",
    "\n",
    "# Apply the pos_tagging function to each entry in the 'cleaned_text' column\n",
    "# and store the result in a new column 'pos_tagged_text'\n",
    "df['pos_tagged_text'] = df['cleaned_text'].apply(pos_tagging)\n"
   ]
  },
  {
   "cell_type": "code",
   "execution_count": 42,
   "metadata": {
    "scrolled": false
   },
   "outputs": [
    {
     "data": {
      "text/html": [
       "<div>\n",
       "<style scoped>\n",
       "    .dataframe tbody tr th:only-of-type {\n",
       "        vertical-align: middle;\n",
       "    }\n",
       "\n",
       "    .dataframe tbody tr th {\n",
       "        vertical-align: top;\n",
       "    }\n",
       "\n",
       "    .dataframe thead th {\n",
       "        text-align: right;\n",
       "    }\n",
       "</style>\n",
       "<table border=\"1\" class=\"dataframe\">\n",
       "  <thead>\n",
       "    <tr style=\"text-align: right;\">\n",
       "      <th></th>\n",
       "      <th>tweet_text</th>\n",
       "      <th>brand</th>\n",
       "      <th>is_there_an_emotion_directed_at_a_brand_or_product</th>\n",
       "      <th>cleaned_tweet</th>\n",
       "      <th>sentiment</th>\n",
       "      <th>brand_iPhone</th>\n",
       "      <th>brand_iPad</th>\n",
       "      <th>brand_Apple</th>\n",
       "      <th>brand_Google</th>\n",
       "      <th>brand_Android</th>\n",
       "      <th>tokenized_tweets</th>\n",
       "      <th>cleaned_text</th>\n",
       "      <th>pos_tagged_text</th>\n",
       "    </tr>\n",
       "  </thead>\n",
       "  <tbody>\n",
       "    <tr>\n",
       "      <th>0</th>\n",
       "      <td>.@wesley83 I have a 3G iPhone. After 3 hrs twe...</td>\n",
       "      <td>iPhone</td>\n",
       "      <td>Negative emotion</td>\n",
       "      <td>3g iphone 3 hr tweeting rise_austin dead need ...</td>\n",
       "      <td>1</td>\n",
       "      <td>1.0</td>\n",
       "      <td>0.0</td>\n",
       "      <td>0.0</td>\n",
       "      <td>0.0</td>\n",
       "      <td>0.0</td>\n",
       "      <td>[3g, iphone, 3, hr, tweeting, rise_austin, dea...</td>\n",
       "      <td>3g iphone 3 hr tweeting rise_austin dead need ...</td>\n",
       "      <td>3g_CD iphone_NN 3_CD hr_NN tweeting_VBG rise_a...</td>\n",
       "    </tr>\n",
       "    <tr>\n",
       "      <th>1</th>\n",
       "      <td>@jessedee Know about @fludapp ? Awesome iPad/i...</td>\n",
       "      <td>Apple</td>\n",
       "      <td>Positive emotion</td>\n",
       "      <td>know awesome ipad iphone app likely appreciate...</td>\n",
       "      <td>3</td>\n",
       "      <td>0.0</td>\n",
       "      <td>0.0</td>\n",
       "      <td>1.0</td>\n",
       "      <td>0.0</td>\n",
       "      <td>0.0</td>\n",
       "      <td>[know, awesome, ipad, iphone, app, likely, app...</td>\n",
       "      <td>know awesome ipad iphone app likely appreciate...</td>\n",
       "      <td>know_VB awesome_JJ ipad_NN iphone_NN app_NN li...</td>\n",
       "    </tr>\n",
       "    <tr>\n",
       "      <th>2</th>\n",
       "      <td>@swonderlin Can not wait for #iPad 2 also. The...</td>\n",
       "      <td>iPad</td>\n",
       "      <td>Positive emotion</td>\n",
       "      <td>wait ipad 2 also sale sxsw</td>\n",
       "      <td>3</td>\n",
       "      <td>0.0</td>\n",
       "      <td>1.0</td>\n",
       "      <td>0.0</td>\n",
       "      <td>0.0</td>\n",
       "      <td>0.0</td>\n",
       "      <td>[wait, ipad, 2, also, sale, sxsw]</td>\n",
       "      <td>wait ipad 2 also sale sxsw</td>\n",
       "      <td>wait_NN ipad_NN 2_CD also_RB sale_NN sxsw_NN</td>\n",
       "    </tr>\n",
       "    <tr>\n",
       "      <th>3</th>\n",
       "      <td>@sxsw I hope this year's festival isn't as cra...</td>\n",
       "      <td>Apple</td>\n",
       "      <td>Negative emotion</td>\n",
       "      <td>hope year festival crashy year iphone app sxsw</td>\n",
       "      <td>1</td>\n",
       "      <td>0.0</td>\n",
       "      <td>0.0</td>\n",
       "      <td>1.0</td>\n",
       "      <td>0.0</td>\n",
       "      <td>0.0</td>\n",
       "      <td>[hope, year, festival, crashy, year, iphone, a...</td>\n",
       "      <td>hope year festival crashy year iphone app sxsw</td>\n",
       "      <td>hope_NN year_NN festival_NN crashy_JJ year_NN ...</td>\n",
       "    </tr>\n",
       "    <tr>\n",
       "      <th>4</th>\n",
       "      <td>@sxtxstate great stuff on Fri #SXSW: Marissa M...</td>\n",
       "      <td>Google</td>\n",
       "      <td>Positive emotion</td>\n",
       "      <td>great stuff fri sxsw marissa mayer google tim ...</td>\n",
       "      <td>3</td>\n",
       "      <td>0.0</td>\n",
       "      <td>0.0</td>\n",
       "      <td>0.0</td>\n",
       "      <td>1.0</td>\n",
       "      <td>0.0</td>\n",
       "      <td>[great, stuff, fri, sxsw, marissa, mayer, goog...</td>\n",
       "      <td>great stuff fri sxsw marissa mayer google tim ...</td>\n",
       "      <td>great_JJ stuff_NN fri_NN sxsw_NN marissa_FW ma...</td>\n",
       "    </tr>\n",
       "  </tbody>\n",
       "</table>\n",
       "</div>"
      ],
      "text/plain": [
       "                                          tweet_text   brand  \\\n",
       "0  .@wesley83 I have a 3G iPhone. After 3 hrs twe...  iPhone   \n",
       "1  @jessedee Know about @fludapp ? Awesome iPad/i...   Apple   \n",
       "2  @swonderlin Can not wait for #iPad 2 also. The...    iPad   \n",
       "3  @sxsw I hope this year's festival isn't as cra...   Apple   \n",
       "4  @sxtxstate great stuff on Fri #SXSW: Marissa M...  Google   \n",
       "\n",
       "  is_there_an_emotion_directed_at_a_brand_or_product  \\\n",
       "0                                   Negative emotion   \n",
       "1                                   Positive emotion   \n",
       "2                                   Positive emotion   \n",
       "3                                   Negative emotion   \n",
       "4                                   Positive emotion   \n",
       "\n",
       "                                       cleaned_tweet  sentiment  brand_iPhone  \\\n",
       "0  3g iphone 3 hr tweeting rise_austin dead need ...          1           1.0   \n",
       "1  know awesome ipad iphone app likely appreciate...          3           0.0   \n",
       "2                         wait ipad 2 also sale sxsw          3           0.0   \n",
       "3     hope year festival crashy year iphone app sxsw          1           0.0   \n",
       "4  great stuff fri sxsw marissa mayer google tim ...          3           0.0   \n",
       "\n",
       "   brand_iPad  brand_Apple  brand_Google  brand_Android  \\\n",
       "0         0.0          0.0           0.0            0.0   \n",
       "1         0.0          1.0           0.0            0.0   \n",
       "2         1.0          0.0           0.0            0.0   \n",
       "3         0.0          1.0           0.0            0.0   \n",
       "4         0.0          0.0           1.0            0.0   \n",
       "\n",
       "                                    tokenized_tweets  \\\n",
       "0  [3g, iphone, 3, hr, tweeting, rise_austin, dea...   \n",
       "1  [know, awesome, ipad, iphone, app, likely, app...   \n",
       "2                  [wait, ipad, 2, also, sale, sxsw]   \n",
       "3  [hope, year, festival, crashy, year, iphone, a...   \n",
       "4  [great, stuff, fri, sxsw, marissa, mayer, goog...   \n",
       "\n",
       "                                        cleaned_text  \\\n",
       "0  3g iphone 3 hr tweeting rise_austin dead need ...   \n",
       "1  know awesome ipad iphone app likely appreciate...   \n",
       "2                         wait ipad 2 also sale sxsw   \n",
       "3     hope year festival crashy year iphone app sxsw   \n",
       "4  great stuff fri sxsw marissa mayer google tim ...   \n",
       "\n",
       "                                     pos_tagged_text  \n",
       "0  3g_CD iphone_NN 3_CD hr_NN tweeting_VBG rise_a...  \n",
       "1  know_VB awesome_JJ ipad_NN iphone_NN app_NN li...  \n",
       "2       wait_NN ipad_NN 2_CD also_RB sale_NN sxsw_NN  \n",
       "3  hope_NN year_NN festival_NN crashy_JJ year_NN ...  \n",
       "4  great_JJ stuff_NN fri_NN sxsw_NN marissa_FW ma...  "
      ]
     },
     "execution_count": 42,
     "metadata": {},
     "output_type": "execute_result"
    }
   ],
   "source": [
    "# Inspecting our df after adding some columns\n",
    "df.head()"
   ]
  },
  {
   "cell_type": "markdown",
   "metadata": {},
   "source": [
    "Now that we have created our bag of words, let's create bigrams and trigrams.  These can be important in fully understanding meaning in text.  For example-which iPad is everyone talking about?"
   ]
  },
  {
   "cell_type": "code",
   "execution_count": 43,
   "metadata": {
    "scrolled": true
   },
   "outputs": [
    {
     "data": {
      "text/plain": [
       "0       [3g iphone, iphone 3, 3 hr, hr tweeting, tweet...\n",
       "1       [know awesome, awesome ipad, ipad iphone, ipho...\n",
       "2       [wait ipad, ipad 2, 2 also, also sale, sale sxsw]\n",
       "3       [hope year, year festival, festival crashy, cr...\n",
       "4       [great stuff, stuff fri, fri sxsw, sxsw mariss...\n",
       "                              ...                        \n",
       "7833        [ipad everywhere, everywhere sxsw, sxsw link]\n",
       "7834    [wave buzz, buzz rt, rt interrupt, interrupt r...\n",
       "7835    [google zeiger, zeiger physician, physician ne...\n",
       "7836    [verizon iphone, iphone customer, customer com...\n",
       "7837    [ϡ _, _ ʋ, ʋ ҋ, ҋ _, _ _, _ rt, rt google, goo...\n",
       "Name: bigrams, Length: 7838, dtype: object"
      ]
     },
     "execution_count": 43,
     "metadata": {},
     "output_type": "execute_result"
    }
   ],
   "source": [
    "def generate_ngrams(text, n):\n",
    "    tokens = word_tokenize(text)\n",
    "    n_grams = list(ngrams(tokens, n))\n",
    "    return [' '.join(gram) for gram in n_grams]\n",
    "\n",
    "# Apply the function to generate bigrams and trigrams\n",
    "df['bigrams'] = df['cleaned_text'].apply(lambda x: generate_ngrams(x, 2))\n",
    "df['trigrams'] = df['cleaned_text'].apply(lambda x: generate_ngrams(x, 3))\n",
    "\n",
    "# Display the DataFrame with bigrams and trigrams\n",
    "df['bigrams']"
   ]
  },
  {
   "cell_type": "markdown",
   "metadata": {},
   "source": [
    "Let's create a graph to view the top 50 most occuring bigrms.  This can give insight into which products people are talking about."
   ]
  },
  {
   "cell_type": "code",
   "execution_count": 44,
   "metadata": {
    "scrolled": true
   },
   "outputs": [
    {
     "data": {
      "image/png": "[encoded data removed]",
      "text/plain": [
       "<Figure size 864x576 with 1 Axes>"
      ]
     },
     "metadata": {
      "needs_background": "light"
     },
     "output_type": "display_data"
    }
   ],
   "source": [
    "# Flatten the list of bigrams\n",
    "all_bigrams = [bigram for sublist in df['bigrams'] for bigram in sublist]\n",
    "\n",
    "# Count the frequency of each bigram\n",
    "bigram_freq = Counter(all_bigrams)\n",
    "\n",
    "# Get the top 50 most common bigrams\n",
    "top_50_bigrams = bigram_freq.most_common(50)\n",
    "\n",
    "# Prepare data for the histogram\n",
    "bigrams, counts = zip(*top_50_bigrams)\n",
    "bigram_labels = [' '.join(bigram) for bigram in bigrams]\n",
    "\n",
    "# Plot the histogram\n",
    "plt.figure(figsize=(12, 8))\n",
    "plt.barh(bigram_labels, counts, color='skyblue')\n",
    "plt.xlabel('Frequency')\n",
    "plt.ylabel('Bigrams')\n",
    "plt.title('Top 50 Most Common Bigrams')\n",
    "plt.gca().invert_yaxis()  # Invert y-axis to have the highest frequency at the top\n",
    "plt.show()"
   ]
  },
  {
   "cell_type": "markdown",
   "metadata": {},
   "source": [
    "Now let's do the same thing for trigrams."
   ]
  },
  {
   "cell_type": "code",
   "execution_count": 45,
   "metadata": {
    "scrolled": false
   },
   "outputs": [
    {
     "data": {
      "image/png": "[encoded data removed]",
      "text/plain": [
       "<Figure size 864x576 with 1 Axes>"
      ]
     },
     "metadata": {
      "needs_background": "light"
     },
     "output_type": "display_data"
    }
   ],
   "source": [
    "# Flatten the list of trigrams\n",
    "all_trigrams = [trigram for sublist in df['trigrams'] for trigram in sublist]\n",
    "\n",
    "# Count the frequency of each bigram\n",
    "trigram_freq = Counter(all_trigrams)\n",
    "\n",
    "# Get the top 50 most common bigrams\n",
    "top_50_trigrams = trigram_freq.most_common(50)\n",
    "\n",
    "# Prepare data for the histogram\n",
    "trigrams, counts = zip(*top_50_trigrams)\n",
    "trigram_labels = [' '.join(trigram) for trigram in trigrams]\n",
    "\n",
    "# Plot the histogram\n",
    "plt.figure(figsize=(12, 8))\n",
    "plt.barh(trigram_labels, counts, color='skyblue')\n",
    "plt.xlabel('Frequency')\n",
    "plt.ylabel('Trigrams')\n",
    "plt.title('Top 50 Most Common Trigrams')\n",
    "plt.gca().invert_yaxis()  # Invert y-axis to have the highest frequency at the top\n",
    "plt.show()"
   ]
  },
  {
   "cell_type": "markdown",
   "metadata": {},
   "source": [
    "Now I want to see a histogram showing the sentiment associated with each brand."
   ]
  },
  {
   "cell_type": "code",
   "execution_count": 46,
   "metadata": {
    "scrolled": true
   },
   "outputs": [
    {
     "data": {
      "image/png": "[encoded data removed]",
      "text/plain": [
       "<Figure size 1080x576 with 1 Axes>"
      ]
     },
     "metadata": {
      "needs_background": "light"
     },
     "output_type": "display_data"
    }
   ],
   "source": [
    "plt.figure(figsize=(15, 8))\n",
    "sns.countplot(x='sentiment', hue='brand', data=df)\n",
    "plt.show()"
   ]
  },
  {
   "cell_type": "markdown",
   "metadata": {},
   "source": [
    "We can see most of the tweets are indifferent or positive to the brands and only a relative few are negative.  Let's reproduce this graph, but focus on the brand instead of the sentiment."
   ]
  },
  {
   "cell_type": "code",
   "execution_count": 47,
   "metadata": {
    "scrolled": false
   },
   "outputs": [
    {
     "data": {
      "image/png": "[encoded data removed]",
      "text/plain": [
       "<Figure size 1080x576 with 1 Axes>"
      ]
     },
     "metadata": {
      "needs_background": "light"
     },
     "output_type": "display_data"
    }
   ],
   "source": [
    "sentiment_labels = {1: 'bad', 2: 'neutral', 3: 'good'}\n",
    "df['sentiment_label'] = df['sentiment'].map(sentiment_labels)\n",
    "gradient_palette = sns.color_palette(\"viridis_r\", 3)\n",
    "plt.figure(figsize=(15, 8))\n",
    "sns.countplot(x='brand', hue='sentiment_label', data=df, palette=gradient_palette)\n",
    "plt.show()"
   ]
  },
  {
   "cell_type": "markdown",
   "metadata": {},
   "source": [
    "Ok, now we can see a little bit more clearly what people are saying about each brand.  Most of the tweets about Apple are good and most of the tweets about iPhone, iPad, Google, and ANdroid are nuetral. This makes sense, because we could see in the previous chart that most of the tweets are nuetral."
   ]
  },
  {
   "cell_type": "markdown",
   "metadata": {},
   "source": [
    "We've got some pretty good descriptive and visualizations here.  Time to build our models."
   ]
  },
  {
   "cell_type": "markdown",
   "metadata": {},
   "source": [
    "First thing we need to do is turn our variables into strings.  This will allow our ColumnTransformer class to prepare the text for Term Frequency-Inverse Document Frequency (TF-IDF).  This is a stat that determines the specific words importance relative to the all words in the corpus."
   ]
  },
  {
   "cell_type": "code",
   "execution_count": 48,
   "metadata": {},
   "outputs": [],
   "source": [
    "df['pos_tagged_text'] = df['pos_tagged_text'].astype(str)\n",
    "df['bigrams'] = df['bigrams'].astype(str)\n",
    "df['trigrams'] = df['trigrams'].astype(str)\n",
    "df['tokenized_tweets'] = df['tokenized_tweets'].astype(str)"
   ]
  },
  {
   "cell_type": "markdown",
   "metadata": {},
   "source": [
    "Step 1 for all modeling-defining X and Y variables.  \n",
    "For us, the **'sentiment'** value is going to be the dependant variable and our independant variables are:  \n",
    "* **'pos_tagged_text'**  \n",
    "* **'bigrams'**  \n",
    "* **'trigrams'**  \n",
    "* **'brand_iPhone'**  \n",
    "* **'brand_iPad'**  \n",
    "* **'brand_Apple'**  \n",
    "* **'brand_Google'**  \n",
    "* **'brand_Android'**"
   ]
  },
  {
   "cell_type": "code",
   "execution_count": 49,
   "metadata": {},
   "outputs": [],
   "source": [
    "X = df[['pos_tagged_text', 'bigrams', 'trigrams', 'brand_iPhone', 'brand_iPad', 'brand_Apple', 'brand_Google', 'brand_Android']]\n",
    "y = df['sentiment']\n",
    "\n",
    "X_train, X_test, y_train, y_test = train_test_split(X, y, test_size=0.2, random_state=42)"
   ]
  },
  {
   "cell_type": "code",
   "execution_count": 52,
   "metadata": {},
   "outputs": [],
   "source": [
    "# Fit the preprocessor on the training data\n",
    "preprocessor.fit(X_train)\n",
    "\n",
    "# Transform the training and test data\n",
    "X_train_transformed = preprocessor.transform(X_train)\n",
    "X_test_transformed = preprocessor.transform(X_test)\n"
   ]
  },
  {
   "cell_type": "code",
   "execution_count": 53,
   "metadata": {},
   "outputs": [],
   "source": [
    "from imblearn.over_sampling import SMOTE\n",
    "\n",
    "smote = SMOTE(random_state=42)\n",
    "X_train_resampled, y_train_resampled = smote.fit_resample(X_train_transformed, y_train)\n"
   ]
  },
  {
   "cell_type": "markdown",
   "metadata": {},
   "source": [
    "OK! We're ready to start building some models.  Here are the models we are going to build:   \n",
    "Let's start with a baseline **Logistic Regression model.**  Logistic Regressions are great for modeling probability of outcomes."
   ]
  },
  {
   "cell_type": "markdown",
   "metadata": {},
   "source": [
    "We will define preprocessor as the ColumnTransformer function that will use TFIDF vectorization on our text features.  This preprocessor will be recycled for every model we build."
   ]
  },
  {
   "cell_type": "code",
   "execution_count": 54,
   "metadata": {},
   "outputs": [
    {
     "name": "stdout",
     "output_type": "stream",
     "text": [
      "Accuracy: 0.67\n",
      "Classification Report:\n",
      "              precision    recall  f1-score   support\n",
      "\n",
      "           1       0.41      0.38      0.39       117\n",
      "           2       0.73      0.73      0.73       883\n",
      "           3       0.62      0.63      0.62       568\n",
      "\n",
      "    accuracy                           0.67      1568\n",
      "   macro avg       0.59      0.58      0.58      1568\n",
      "weighted avg       0.67      0.67      0.67      1568\n",
      "\n"
     ]
    }
   ],
   "source": [
    "# Step 1: Preprocess the text data\n",
    "preprocessor = ColumnTransformer(\n",
    "    transformers=[\n",
    "        ('pos_tagged_text', TfidfVectorizer(max_features=5000), 'pos_tagged_text'),\n",
    "        ('bigrams', TfidfVectorizer(max_features=5000), 'bigrams'),\n",
    "        ('trigrams', TfidfVectorizer(max_features=5000), 'trigrams')\n",
    "    ]\n",
    ")\n",
    "\n",
    "model = LogisticRegression(max_iter=1000)\n",
    "model.fit(X_train_resampled, y_train_resampled)\n",
    "\n",
    "# Evaluate the model\n",
    "y_pred = model.predict(X_test_transformed)\n",
    "\n",
    "accuracy = accuracy_score(y_test, y_pred)\n",
    "print(f'Accuracy: {accuracy:.2f}')\n",
    "print(\"Classification Report:\")\n",
    "print(classification_report(y_test, y_pred))"
   ]
  },
  {
   "cell_type": "markdown",
   "metadata": {},
   "source": [
    "Not a bad start.  Let's see if we can improve our scores by using **GridSearchCV on the Logistic Regression Model** to find the best parameters.  GridSearchCV will run the model with every combinaiton of parameters we give it and then pick the best model.    Notice how this code block will also output the best results as well as running the best results and producing the stats.  These can take a while to run sometimes.  "
   ]
  },
  {
   "cell_type": "code",
   "execution_count": 57,
   "metadata": {
    "scrolled": false
   },
   "outputs": [
    {
     "name": "stdout",
     "output_type": "stream",
     "text": [
      "Best parameters found: {'classifier__C': 1, 'classifier__solver': 'saga'}\n",
      "Best cross-validation accuracy: 0.63\n",
      "Logistic Regression Accuracy: 0.67\n",
      "Logistic Regression Classification Report:\n",
      "              precision    recall  f1-score   support\n",
      "\n",
      "           1       0.41      0.38      0.39       117\n",
      "           2       0.73      0.73      0.73       883\n",
      "           3       0.62      0.63      0.62       568\n",
      "\n",
      "    accuracy                           0.67      1568\n",
      "   macro avg       0.59      0.58      0.58      1568\n",
      "weighted avg       0.67      0.67      0.67      1568\n",
      "\n"
     ]
    }
   ],
   "source": [
    "from imblearn.pipeline import Pipeline as ImbPipeline\n",
    "#Create SMOTE Pipeline\n",
    "smote_pipeline = ImbPipeline(steps=[\n",
    "    ('preprocessor', preprocessor),\n",
    "    ('smote', SMOTE(random_state=42)),\n",
    "    ('classifier', LogisticRegression(max_iter=1000))\n",
    "])\n",
    "\n",
    "# Define the parameter grid for GridSearchCV\n",
    "param_grid = {\n",
    "    'classifier__C': [0.1, 1, 10, 100],  # Regularization strength\n",
    "    'classifier__solver': ['liblinear', 'saga']  # Solvers\n",
    "}\n",
    "\n",
    "# Set up GridSearchCV with the logistic regression pipeline\n",
    "grid_search = GridSearchCV(estimator=smote_pipeline, param_grid=param_grid, cv=5, scoring='accuracy', n_jobs=-1)\n",
    "\n",
    "# Train the pipeline with grid search\n",
    "grid_search.fit(X_train, y_train)\n",
    "\n",
    "# Get the best parameters and best score\n",
    "best_params = grid_search.best_params_\n",
    "best_score = grid_search.best_score_\n",
    "\n",
    "print(f'Best parameters found: {best_params}')\n",
    "print(f'Best cross-validation accuracy: {best_score:.2f}')\n",
    "\n",
    "# Make predictions with the best estimator\n",
    "best_logistic_model = grid_search.best_estimator_\n",
    "y_pred_logistic = best_logistic_model.predict(X_test)\n",
    "\n",
    "# Evaluate the best model\n",
    "accuracy_logistic = accuracy_score(y_test, y_pred_logistic)\n",
    "print(f'Logistic Regression Accuracy: {accuracy_logistic:.2f}')\n",
    "print(\"Logistic Regression Classification Report:\")\n",
    "print(classification_report(y_test, y_pred_logistic))"
   ]
  },
  {
   "cell_type": "code",
   "execution_count": 58,
   "metadata": {},
   "outputs": [
    {
     "data": {
      "text/plain": [
       "<Figure size 720x504 with 0 Axes>"
      ]
     },
     "metadata": {},
     "output_type": "display_data"
    },
    {
     "data": {
      "image/png": "[encoded data removed]",
      "text/plain": [
       "<Figure size 432x288 with 2 Axes>"
      ]
     },
     "metadata": {
      "needs_background": "light"
     },
     "output_type": "display_data"
    }
   ],
   "source": [
    "# Visualization: Confusion Matrix\n",
    "plt.figure(figsize=(10, 7))\n",
    "ConfusionMatrixDisplay.from_estimator(grid_search, X_test, y_test, cmap='Blues')\n",
    "plt.title('Confusion Matrix - Logistic Regression')\n",
    "plt.show()"
   ]
  },
  {
   "cell_type": "markdown",
   "metadata": {},
   "source": [
    "Now Let's build a **Decision Tree Classifier** using our preprocessor from above.  A Decision Tree is another model great for classifications.   \n",
    "Essentially, we create a model that predicts the value of a y-variable by learning simple decision rules inferred from the x-variables."
   ]
  },
  {
   "cell_type": "code",
   "execution_count": 60,
   "metadata": {},
   "outputs": [
    {
     "name": "stdout",
     "output_type": "stream",
     "text": [
      "Decision Tree Classifier Accuracy: 0.58\n",
      "Decision Tree Classifier Classification Report:\n",
      "              precision    recall  f1-score   support\n",
      "\n",
      "           1       0.31      0.27      0.29       117\n",
      "           2       0.65      0.66      0.66       883\n",
      "           3       0.51      0.51      0.51       568\n",
      "\n",
      "    accuracy                           0.58      1568\n",
      "   macro avg       0.49      0.48      0.48      1568\n",
      "weighted avg       0.57      0.58      0.58      1568\n",
      "\n"
     ]
    }
   ],
   "source": [
    "from sklearn.tree import DecisionTreeClassifier\n",
    "\n",
    "# Create and train the Decision Tree Classifier\n",
    "decision_tree_pipeline = Pipeline(steps=[\n",
    "    ('classifier', DecisionTreeClassifier())\n",
    "])\n",
    "# Fit the pipeline on the training data\n",
    "decision_tree_pipeline.fit(X_train_resampled, y_train_resampled)\n",
    "\n",
    "# Make predictions and evaluate the model\n",
    "y_pred_decision_tree = decision_tree_pipeline.predict(X_test_transformed)\n",
    "\n",
    "# Evaluate the model\n",
    "accuracy_decision_tree = accuracy_score(y_test, y_pred_decision_tree)\n",
    "print(f'Decision Tree Classifier Accuracy: {accuracy_decision_tree:.2f}')\n",
    "print(\"Decision Tree Classifier Classification Report:\")\n",
    "print(classification_report(y_test, y_pred_decision_tree))"
   ]
  },
  {
   "cell_type": "markdown",
   "metadata": {},
   "source": [
    "Now let's run **GridSearchCV** to optimize our **Decision Tree Classifier**.  Notice how this code block will also output the best results as well as running the best results and producing the stats."
   ]
  },
  {
   "cell_type": "code",
   "execution_count": 64,
   "metadata": {},
   "outputs": [
    {
     "data": {
      "image/png": "[encoded data removed]",
      "text/plain": [
       "<Figure size 1440x720 with 1 Axes>"
      ]
     },
     "metadata": {
      "needs_background": "light"
     },
     "output_type": "display_data"
    }
   ],
   "source": [
    "# Train the Decision Tree Classifier on the resampled data\n",
    "classifier = DecisionTreeClassifier()\n",
    "classifier.fit(X_train_resampled, y_train_resampled)\n",
    "\n",
    "# Get the feature names from the preprocessor\n",
    "feature_names = preprocessor.get_feature_names_out()\n",
    "\n",
    "# Plot the decision tree\n",
    "import matplotlib.pyplot as plt\n",
    "from sklearn.tree import plot_tree\n",
    "\n",
    "plt.figure(figsize=(20, 10))\n",
    "plot_tree(classifier, feature_names=feature_names, filled=True, rounded=True, class_names=True)\n",
    "plt.show()"
   ]
  },
  {
   "cell_type": "code",
   "execution_count": 66,
   "metadata": {
    "scrolled": true
   },
   "outputs": [
    {
     "data": {
      "image/png": "[encoded data removed]",
      "text/plain": [
       "<Figure size 1080x504 with 1 Axes>"
      ]
     },
     "metadata": {
      "needs_background": "light"
     },
     "output_type": "display_data"
    }
   ],
   "source": [
    "# Function to extract feature names correctly\n",
    "def get_feature_names(preprocessor):\n",
    "    output_features = []\n",
    "    for name, transformer, columns in preprocessor.transformers_:\n",
    "        if hasattr(transformer, 'get_feature_names_out'):\n",
    "            feature_names = transformer.get_feature_names_out()\n",
    "            output_features.extend(feature_names)\n",
    "        elif hasattr(transformer, 'transformers_'):  # Handling nested ColumnTransformer\n",
    "            nested_features = get_feature_names(transformer)\n",
    "            output_features.extend(nested_features)\n",
    "        else:\n",
    "            output_features.extend(columns)\n",
    "    return output_features\n",
    "\n",
    "# Visualization: Feature Importance using Decision Tree\n",
    "def plot_feature_importances(model, feature_names, top_features=20):\n",
    "    importances = model.feature_importances_\n",
    "    indices = np.argsort(importances)[-top_features:]\n",
    "\n",
    "    plt.figure(figsize=(15, 7))\n",
    "    plt.barh(range(len(indices)), importances[indices], color='blue', align='center')\n",
    "    plt.yticks(range(len(indices)), [feature_names[i] for i in indices])\n",
    "    plt.xlabel('Relative Importance')\n",
    "    plt.title('Top 20 Feature Importances - Decision Tree')\n",
    "    plt.show()\n",
    "\n",
    "# Extract feature names from the preprocessor\n",
    "feature_names = get_feature_names(preprocessor)\n",
    "feature_names = np.array(feature_names)\n",
    "\n",
    "# Plot feature importances\n",
    "plot_feature_importances(classifier, feature_names)\n"
   ]
  },
  {
   "cell_type": "code",
   "execution_count": 72,
   "metadata": {},
   "outputs": [
    {
     "name": "stderr",
     "output_type": "stream",
     "text": [
      "C:\\Users\\byrdw\\anaconda3\\envs\\learn-env\\lib\\site-packages\\sklearn\\model_selection\\_validation.py:425: FitFailedWarning: \n",
      "20 fits failed out of a total of 40.\n",
      "The score on these train-test partitions for these parameters will be set to nan.\n",
      "If these failures are not expected, you can try to debug them by setting error_score='raise'.\n",
      "\n",
      "Below are more details about the failures:\n",
      "--------------------------------------------------------------------------------\n",
      "20 fits failed with the following error:\n",
      "Traceback (most recent call last):\n",
      "  File \"C:\\Users\\byrdw\\anaconda3\\envs\\learn-env\\lib\\site-packages\\sklearn\\model_selection\\_validation.py\", line 729, in _fit_and_score\n",
      "    estimator.fit(X_train, y_train, **fit_params)\n",
      "  File \"C:\\Users\\byrdw\\anaconda3\\envs\\learn-env\\lib\\site-packages\\sklearn\\base.py\", line 1152, in wrapper\n",
      "    return fit_method(estimator, *args, **kwargs)\n",
      "  File \"C:\\Users\\byrdw\\anaconda3\\envs\\learn-env\\lib\\site-packages\\imblearn\\pipeline.py\", line 333, in fit\n",
      "    self._final_estimator.fit(Xt, yt, **last_step_params[\"fit\"])\n",
      "  File \"C:\\Users\\byrdw\\anaconda3\\envs\\learn-env\\lib\\site-packages\\sklearn\\base.py\", line 1145, in wrapper\n",
      "    estimator._validate_params()\n",
      "  File \"C:\\Users\\byrdw\\anaconda3\\envs\\learn-env\\lib\\site-packages\\sklearn\\base.py\", line 638, in _validate_params\n",
      "    validate_parameter_constraints(\n",
      "  File \"C:\\Users\\byrdw\\anaconda3\\envs\\learn-env\\lib\\site-packages\\sklearn\\utils\\_param_validation.py\", line 96, in validate_parameter_constraints\n",
      "    raise InvalidParameterError(\n",
      "sklearn.utils._param_validation.InvalidParameterError: The 'min_samples_split' parameter of DecisionTreeClassifier must be an int in the range [2, inf) or a float in the range (0.0, 1.0]. Got 1 instead.\n",
      "\n",
      "  warnings.warn(some_fits_failed_message, FitFailedWarning)\n",
      "C:\\Users\\byrdw\\anaconda3\\envs\\learn-env\\lib\\site-packages\\sklearn\\model_selection\\_search.py:979: UserWarning: One or more of the test scores are non-finite: [       nan 0.43716108        nan 0.43716108        nan 0.43636364\n",
      "        nan 0.43620415]\n",
      "  warnings.warn(\n"
     ]
    },
    {
     "name": "stdout",
     "output_type": "stream",
     "text": [
      "Best parameters found: {'classifier__criterion': 'gini', 'classifier__max_depth': 4, 'classifier__min_samples_leaf': 1, 'classifier__min_samples_split': 2}\n",
      "Best cross-validation accuracy: 0.44\n",
      "Decision Tree Accuracy: 0.42\n",
      "Decision Tree Classification Report:\n",
      "              precision    recall  f1-score   support\n",
      "\n",
      "           1       0.17      0.26      0.20       117\n",
      "           2       0.78      0.19      0.30       883\n",
      "           3       0.39      0.82      0.53       568\n",
      "\n",
      "    accuracy                           0.42      1568\n",
      "   macro avg       0.45      0.42      0.34      1568\n",
      "weighted avg       0.60      0.42      0.38      1568\n",
      "\n"
     ]
    }
   ],
   "source": [
    "# Define the pipeline with SMOTE and Decision Tree Classifier\n",
    "decision_tree_pipeline = ImbPipeline(steps=[\n",
    "    ('preprocessor', preprocessor),\n",
    "    ('smote', SMOTE(random_state=42)),\n",
    "    ('classifier', DecisionTreeClassifier())\n",
    "])\n",
    "\n",
    "# Define the parameter grid for GridSearchCV\n",
    "param_grid = {\n",
    "    'classifier__max_depth': [4, 5],\n",
    "    'classifier__min_samples_split': [1, 2],\n",
    "    'classifier__min_samples_leaf': [1, 2],\n",
    "    'classifier__criterion': ['gini']\n",
    "}\n",
    "\n",
    "# Set up GridSearchCV with the decision tree pipeline\n",
    "grid_search = GridSearchCV(estimator=decision_tree_pipeline, param_grid=param_grid, cv=5, scoring='accuracy', n_jobs=-1)\n",
    "\n",
    "# Train the pipeline with grid search\n",
    "grid_search.fit(X_train, y_train)\n",
    "\n",
    "# Get the best parameters and best score\n",
    "best_params = grid_search.best_params_\n",
    "best_score = grid_search.best_score_\n",
    "\n",
    "print(f'Best parameters found: {best_params}')\n",
    "print(f'Best cross-validation accuracy: {best_score:.2f}')\n",
    "\n",
    "# Make predictions with the best estimator\n",
    "best_tree_model = grid_search.best_estimator_\n",
    "y_pred_tree = best_tree_model.predict(X_test)\n",
    "\n",
    "# Evaluate the best model\n",
    "accuracy_tree = accuracy_score(y_test, y_pred_tree)\n",
    "print(f'Decision Tree Accuracy: {accuracy_tree:.2f}')\n",
    "print(\"Decision Tree Classification Report:\")\n",
    "print(classification_report(y_test, y_pred_tree))"
   ]
  },
  {
   "cell_type": "markdown",
   "metadata": {},
   "source": [
    "Now we're going to run a **K-Nearest Neighbors Classifier**. KNN is built on the idea that similar data points often have simlar features.  So during the training phase, KNN calculates the Euclidean Distance between points and groups them by the 'k' number of nearest neighbors.  The default is 5 and what we use in our basline model."
   ]
  },
  {
   "cell_type": "code",
   "execution_count": 74,
   "metadata": {},
   "outputs": [
    {
     "name": "stdout",
     "output_type": "stream",
     "text": [
      "KNN Classifier Accuracy: 0.43\n",
      "KNN Classifier Classification Report:\n",
      "              precision    recall  f1-score   support\n",
      "\n",
      "           1       0.14      0.72      0.23       117\n",
      "           2       0.76      0.33      0.46       883\n",
      "           3       0.52      0.53      0.52       568\n",
      "\n",
      "    accuracy                           0.43      1568\n",
      "   macro avg       0.47      0.53      0.41      1568\n",
      "weighted avg       0.63      0.43      0.47      1568\n",
      "\n"
     ]
    }
   ],
   "source": [
    "from sklearn.neighbors import KNeighborsClassifier\n",
    "\n",
    "\n",
    "# Define the pipeline with SMOTE and KNN Classifier\n",
    "knn_pipeline = ImbPipeline(steps=[\n",
    "    ('preprocessor', preprocessor),\n",
    "    ('smote', SMOTE(random_state=42)),\n",
    "    ('classifier', KNeighborsClassifier())\n",
    "])\n",
    "\n",
    "# Fit the pipeline on the training data\n",
    "knn_pipeline.fit(X_train, y_train)\n",
    "\n",
    "# Make predictions on the test data\n",
    "y_pred_knn = knn_pipeline.predict(X_test)\n",
    "\n",
    "# Evaluate the model\n",
    "accuracy_knn = accuracy_score(y_test, y_pred_knn)\n",
    "print(f'KNN Classifier Accuracy: {accuracy_knn:.2f}')\n",
    "print(\"KNN Classifier Classification Report:\")\n",
    "print(classification_report(y_test, y_pred_knn))\n"
   ]
  },
  {
   "cell_type": "markdown",
   "metadata": {},
   "source": [
    "Now let's run GridSearchCV to optimize our **KNN Classifier**. Notice how this code block will also output the best results as well as running the best results and producing the stats.  \n"
   ]
  },
  {
   "cell_type": "code",
   "execution_count": null,
   "metadata": {
    "scrolled": false
   },
   "outputs": [],
   "source": [
    "# Define the parameter grid for GridSearchCV\n",
    "param_grid = {\n",
    "    'classifier__n_neighbors': [3, 10],\n",
    "    'classifier__weights': ['distance'],\n",
    "    'classifier__algorithm': ['auto', 'ball_tree'],\n",
    "    'classifier__p': [1, 2]\n",
    "}\n",
    "\n",
    "# Set up GridSearchCV with the KNN pipeline\n",
    "grid_search_knn = GridSearchCV(estimator=knn_pipeline, param_grid=param_grid, cv=5, scoring='accuracy', n_jobs=-1)\n",
    "\n",
    "# Train the pipeline with grid search\n",
    "grid_search_knn.fit(X_train, y_train)\n",
    "\n",
    "# Get the best parameters and best score\n",
    "best_params_knn = grid_search_knn.best_params_\n",
    "best_score_knn = grid_search_knn.best_score_\n",
    "\n",
    "print(f'Best parameters found for KNN: {best_params_knn}')\n",
    "print(f'Best cross-validation accuracy for KNN: {best_score_knn:.2f}')\n",
    "\n",
    "# Make predictions with the best estimator\n",
    "best_knn_model = grid_search_knn.best_estimator_\n",
    "y_pred_knn = best_knn_model.predict(X_test)\n",
    "\n",
    "# Evaluate the best model\n",
    "accuracy_knn = accuracy_score(y_test, y_pred_knn)\n",
    "print(f'KNN Accuracy: {accuracy_knn:.2f}')\n",
    "print(\"KNN Classification Report:\")\n",
    "print(classification_report(y_test, y_pred_knn))"
   ]
  },
  {
   "cell_type": "markdown",
   "metadata": {},
   "source": [
    "Building Gradient Boosting classifier"
   ]
  },
  {
   "cell_type": "code",
   "execution_count": null,
   "metadata": {},
   "outputs": [],
   "source": [
    "# Create a pipeline that includes preprocessing and the Gradient Boosting classifier\n",
    "gradient_boosting_pipeline = Pipeline(steps=[\n",
    "    ('preprocessor', preprocessor),\n",
    "    ('classifier', GradientBoostingClassifier())\n",
    "])\n",
    "\n",
    "# Train the pipeline\n",
    "gradient_boosting_pipeline.fit(X_train_resampled, y_train_resampled)\n",
    "\n",
    "# Make predictions\n",
    "y_pred_gradient_boosting = gradient_boosting_pipeline.predict(X_test)\n",
    "\n",
    "# Evaluate the pipeline\n",
    "accuracy_gradient_boosting = accuracy_score(y_test, y_pred_gradient_boosting)\n",
    "print(f'Gradient Boosting Accuracy: {accuracy_gradient_boosting:.2f}')\n",
    "print(\"Gradient Boosting Classification Report:\")\n",
    "print(classification_report(y_test, y_pred_gradient_boosting))"
   ]
  },
  {
   "cell_type": "code",
   "execution_count": null,
   "metadata": {},
   "outputs": [],
   "source": [
    "# Visualization: Confusion Matrix\n",
    "plt.figure(figsize=(10, 7))\n",
    "ConfusionMatrixDisplay.from_estimator(gradient_boosting_pipeline, X_test, y_test, cmap='Blues')\n",
    "plt.title('Confusion Matrix - Gradient Boosting')\n",
    "plt.show()"
   ]
  },
  {
   "cell_type": "markdown",
   "metadata": {},
   "source": [
    "Finetuning Gradient Bossting model via GridSearchCV"
   ]
  },
  {
   "cell_type": "code",
   "execution_count": null,
   "metadata": {
    "scrolled": true
   },
   "outputs": [],
   "source": [
    "# Define the parameter grid for GridSearchCV\n",
    "param_grid = {\n",
    "    'classifier__n_estimators': [5, 10],\n",
    "    'classifier__learning_rate': [0.1, 0.2],\n",
    "    'classifier__max_depth': [2, 4],\n",
    "}\n",
    "\n",
    "# Set up GridSearchCV with the Gradient Boosting pipeline\n",
    "grid_search_gb = GridSearchCV(estimator=gradient_boosting_pipeline, param_grid=param_grid, cv=5, scoring='accuracy', n_jobs=-1)\n",
    "\n",
    "# Train the pipeline with grid search\n",
    "grid_search_gb.fit(X_train_resampled, y_train_resampled)\n",
    "\n",
    "# Get the best parameters and best score\n",
    "best_params_gb = grid_search_gb.best_params_\n",
    "best_score_gb = grid_search_gb.best_score_\n",
    "\n",
    "print(f'Best parameters found for Gradient Boosting: {best_params_gb}')\n",
    "print(f'Best cross-validation accuracy for Gradient Boosting: {best_score_gb:.2f}')\n",
    "\n",
    "# Make predictions with the best estimator\n",
    "best_gb_model = grid_search_gb.best_estimator_\n",
    "y_pred_gradient_boosting = best_gb_model.predict(X_test)\n",
    "\n",
    "# Evaluate the best model\n",
    "accuracy_gradient_boosting = accuracy_score(y_test, y_pred_gradient_boosting)\n",
    "print(f'Gradient Boosting Accuracy: {accuracy_gradient_boosting:.2f}')\n",
    "print(\"Gradient Boosting Classification Report:\")\n",
    "print(classification_report(y_test, y_pred_gradient_boosting))"
   ]
  },
  {
   "cell_type": "markdown",
   "metadata": {},
   "source": [
    "Now let's take all of those models and use ensemble methods to analyze them even further!  First we will look at the Stacking method."
   ]
  },
  {
   "cell_type": "code",
   "execution_count": null,
   "metadata": {},
   "outputs": [],
   "source": [
    "# Define base models\n",
    "estimators = [\n",
    "    ('decision_tree', DecisionTreeClassifier()),\n",
    "    ('knn', KNeighborsClassifier()),\n",
    "    ('logistic', LogisticRegression(max_iter=1000)),\n",
    "    ('gradient_boosting', GradientBoostingClassifier())\n",
    "]\n",
    "\n",
    "# Create a pipeline that includes preprocessing and the stacking classifier\n",
    "stacking_clf = Pipeline(steps=[\n",
    "    ('preprocessor', preprocessor),\n",
    "    ('classifier', StackingClassifier(\n",
    "        estimators=estimators,\n",
    "        final_estimator=LogisticRegression(max_iter=1000)\n",
    "    ))\n",
    "])\n",
    "\n",
    "# Train the pipeline\n",
    "stacking_clf.fit(X_train_resampled, y_train_resampled)\n",
    "\n",
    "#make predictions\n",
    "y_pred_stacking = stacking_clf.predict(X_test)\n",
    "\n",
    "# Evaluate the pipeline\n",
    "stack_accuracy = stacking_clf.score(X_test, y_test)\n",
    "print(f'Stacking Classifier Accuracy: {stack_accuracy:.2f}')\n",
    "print(\"Stacking Classifier Classification Report:\")\n",
    "print(classification_report(y_test, y_pred_stacking))\n"
   ]
  },
  {
   "cell_type": "markdown",
   "metadata": {},
   "source": [
    "Now let's look a the Voting method."
   ]
  },
  {
   "cell_type": "code",
   "execution_count": null,
   "metadata": {
    "scrolled": true
   },
   "outputs": [],
   "source": [
    "# Similarly, for voting classifier\n",
    "voting_clf = Pipeline(steps=[\n",
    "    ('preprocessor', preprocessor),\n",
    "    ('classifier', VotingClassifier(\n",
    "        estimators=[\n",
    "            ('decision_tree', DecisionTreeClassifier()),\n",
    "            ('knn', KNeighborsClassifier()),\n",
    "            ('logistic', LogisticRegression(max_iter=1000)),\n",
    "            ('gradient_boosting', GradientBoostingClassifier())\n",
    "        ],\n",
    "        voting='soft'  # Change to 'hard' for majority voting\n",
    "    ))\n",
    "])\n",
    "\n",
    "# Train the pipeline\n",
    "voting_clf.fit(X_train_resampled, y_train_resampled)\n",
    "\n",
    "# Make Predictions\n",
    "y_pred_voting = voting_clf.predict(X_test)\n",
    "\n",
    "# Evaluate the pipeline\n",
    "vote_accuracy = voting_clf.score(X_test, y_test)\n",
    "print(f'Voting Classifier Accuracy: {vote_accuracy:.2f}')\n",
    "print(\"Voting Classifier Classification Report:\")\n",
    "print(classification_report(y_test, y_pred_voting))"
   ]
  },
  {
   "cell_type": "markdown",
   "metadata": {},
   "source": [
    "Let's do the same thing, but with with our finetuned models to see the difference.  Stacking first."
   ]
  },
  {
   "cell_type": "code",
   "execution_count": null,
   "metadata": {},
   "outputs": [],
   "source": [
    "# Converting _train and X_test to dataframes for modeling\n",
    "X_train_ft = pd.DataFrame(X_train_resampled, columns=['pos_tagged_text', 'bigrams', 'trigrams', 'brand_iPhone', 'brand_iPad', 'brand_Apple', 'brand_Google', 'brand_Android']\n",
    ")\n",
    "X_test = pd.DataFrame(X_test, columns=['pos_tagged_text', 'bigrams', 'trigrams', 'brand_iPhone', 'brand_iPad', 'brand_Apple', 'brand_Google', 'brand_Android']\n",
    ")\n",
    "\n",
    "# Define the best models from grid search\n",
    "best_tree_model = DecisionTreeClassifier()  \n",
    "best_knn_model = KNeighborsClassifier()  \n",
    "best_logistic_model = LogisticRegression(max_iter=1000)  \n",
    "best_gb_model = GradientBoostingClassifier() \n",
    "\n",
    "# Create the stacking classifier pipeline\n",
    "stacking_clf = Pipeline(steps=[\n",
    "    ('preprocessor', preprocessor),\n",
    "    ('classifier', StackingClassifier(\n",
    "        estimators=[\n",
    "            ('decision_tree', best_tree_model),\n",
    "            ('knn', best_knn_model),\n",
    "            ('logistic', best_logistic_model),\n",
    "            ('gradient_boosting', best_gb_model)\n",
    "        ],\n",
    "        final_estimator=LogisticRegression(max_iter=1000)\n",
    "    ))\n",
    "])\n",
    "\n",
    "# Train the stacking pipeline\n",
    "stacking_clf.fit(X_train_ft, y_train_resampled)\n",
    "\n",
    "# Make predictions and evaluate the stacking pipeline\n",
    "y_pred_stacking_ft = stacking_clf.predict(X_test)\n",
    "stack_accuracy = stacking_clf.score(X_test, y_test)\n",
    "print(f'Stacking Classifier Accuracy: {stack_accuracy:.2f}')\n",
    "print(\"Stacking Classifier Classification Report:\")\n",
    "print(classification_report(y_test, y_pred_stacking_ft))\n",
    "\n"
   ]
  },
  {
   "cell_type": "markdown",
   "metadata": {},
   "source": [
    "Now the voting method."
   ]
  },
  {
   "cell_type": "code",
   "execution_count": null,
   "metadata": {
    "scrolled": true
   },
   "outputs": [],
   "source": [
    "# Create the voting classifier pipeline\n",
    "voting_clf = Pipeline(steps=[\n",
    "    ('preprocessor', preprocessor),\n",
    "    ('classifier', VotingClassifier(\n",
    "        estimators=[\n",
    "            ('decision_tree', best_tree_model),\n",
    "            ('knn', best_knn_model),\n",
    "            ('logistic', best_logistic_model),\n",
    "            ('gradient_boosting', best_gb_model)\n",
    "        ],\n",
    "        voting='soft'  # Change to 'hard' for majority voting\n",
    "    ))\n",
    "])\n",
    "\n",
    "# Train the voting pipeline\n",
    "voting_clf.fit(X_train_ft, y_train_resampled)\n",
    "\n",
    "# Make predictions and evaluate the voting pipeline\n",
    "y_pred_voting = voting_clf.predict(X_test)\n",
    "vote_accuracy = voting_clf.score(X_test, y_test)\n",
    "print(f'Voting Classifier Accuracy: {vote_accuracy:.2f}')\n",
    "print(\"Voting Classifier Classification Report:\")\n",
    "print(classification_report(y_test, y_pred_voting))\n"
   ]
  },
  {
   "cell_type": "code",
   "execution_count": null,
   "metadata": {},
   "outputs": [],
   "source": [
    "from sklearn.feature_extraction.text import TfidfVectorizer\n",
    "from sklearn.model_selection import train_test_split\n",
    "from sklearn.naive_bayes import MultinomialNB\n",
    "from sklearn.metrics import accuracy_score, classification_report\n",
    "\n",
    "\n",
    "bayesian_pipeline = Pipeline(steps=[\n",
    "    ('preprocessor', preprocessor),\n",
    "    ('classifier', MultinomialNB())\n",
    "])\n",
    "\n",
    "bayesian_pipeline.fit(X_train_ft, y_train_resampled)\n",
    "\n",
    "# Step 4: Make predictions\n",
    "y_pred = bayesian_pipeline.predict(X_test)\n",
    "\n",
    "# Step 5: Evaluate the model\n",
    "accuracy = accuracy_score(y_test, y_pred)\n",
    "report = classification_report(y_test, y_pred)\n",
    "\n",
    "print(f'Accuracy: {accuracy}')\n",
    "print(f'Classification Report:\\n{report}')"
   ]
  },
  {
   "cell_type": "code",
   "execution_count": null,
   "metadata": {},
   "outputs": [],
   "source": [
    "import matplotlib.pyplot as plt\n",
    "from sklearn.metrics import ConfusionMatrixDisplay\n",
    "\n",
    "# Visualization: Confusion Matrix\n",
    "plt.figure(figsize=(10, 7))\n",
    "ConfusionMatrixDisplay.from_estimator(bayesian_pipeline, X_test, y_test, cmap='Blues')\n",
    "plt.title('Confusion Matrix - Naive Bayes')\n",
    "plt.show()\n"
   ]
  },
  {
   "cell_type": "markdown",
   "metadata": {},
   "source": [
    "## Final Analysis\n",
    "\n",
    "**Our best model was our finetune model that went through Stacking Ensemble method.**  \n",
    "\n",
    "Remember:  \n",
    "* Class 1 = Negative\n",
    "* Class 2=  Nuetral\n",
    "* Class 3 = Positive"
   ]
  },
  {
   "cell_type": "code",
   "execution_count": null,
   "metadata": {},
   "outputs": [],
   "source": [
    "print(f'Stacking Classifier Accuracy: {stack_accuracy:.2f}')\n",
    "print(\"Stacking Classifier Classification Report:\")\n",
    "print(classification_report(y_test, y_pred_stacking_ft))"
   ]
  },
  {
   "cell_type": "markdown",
   "metadata": {},
   "source": [
    "Here is what we can determine from our results:\n",
    "  \n",
    "* Our model can predict the correct class of tweet(negative, nuetral, positive) with 69% accuracy.  This is actually fairly accurate as there are 3 classes, so a model that was purely guessing would be accurate roughly 33% of the time.  \n",
    "* Class 1  \n",
    "  * **Precision**- Our model predicts tweets fall into class 1 61% of the time.\n",
    "  * **Recall**- The instances where the actual value of a tweet is class 1 were correctly identified 20% of the time\n",
    "  * **F1-score**- Low F1-score is due to the sample size\n",
    "* Class 2\n",
    "  * **Precision**- Our model predicts tweets fall into class 2 69% of the time.\n",
    "  * **Recall**- The instances where the actual value of a tweet is class 2 were correctly identified 85% of the time\n",
    "  * **F1-score**- High F1-score is due to the sample size\n",
    "* Class 3\n",
    "  * **Precision**- Our model predicts tweets fall into class 3 68% of the time.\n",
    "  * **Recall**- The instances where the actual value of a tweet is class 3 were correctly identified 53% of the time\n",
    "  * **F1-score**- Moderate F1-score is due to the sample size\n",
    "\n",
    "\n",
    "\n",
    "  \n",
    "Ensemble methods in ML is the process of combining multiple models to create one model that should outperform all others.  This works, because the Ensemble method is able to utilize the strengths of the models and is able to sort out the weaknesses of each individual model.  \n",
    "\n",
    "In this notebook, we utilized 2 Ensemble Methods-Stacking and Voting.  Here's a brief synopsis of how these work:  \n",
    "    \n",
    "Stacking-Multiple models called base learners are trained on the dataset and then the predictions of these models are the input features of a secondary model referred to as a meta-learner.  \n",
    "  \n",
    "Voting-the models are all trained independently and then combined via voting.  There are two types of voting-hard voting and soft voting.  In hard voting, the final prediction is determined bu majority vote.  In soft voting, each model provides the probability estimate for each class and the final prediction is made by averaging these probabilities.\n",
    "  \n",
    "  \n",
    "## Recomendations\n",
    "   \n",
    "My receomendation to the conference organizers of SXSW would be to allocate as many resources to Apple as they can afford.  Clearly, at this time, Apple was the most popular tech brand.  iPhone, iPad, Macbook, etc. were all revolutionary products that are still some of the most popular products to this day.  Google was the 2nd most popular brand at this conference.  Interestingly enough, Google was the most important feature in our modelling, despite it being the 2nd most popular brand.\n",
    "\n",
    "You can see that all of the Apple products are right up there with Google on feature importance.  It's understandable that most of the tweets were nuetral or positive as SXSW is a tech conference.  However, it is still imporant to note that Apple and Google were talked about signifiantly more than Android.  "
   ]
  },
  {
   "cell_type": "code",
   "execution_count": null,
   "metadata": {},
   "outputs": [],
   "source": [
    "plot_feature_importances(decision_tree_pipeline, feature_names)"
   ]
  },
  {
   "cell_type": "markdown",
   "metadata": {},
   "source": [
    "## Next Steps\n",
    "  \n",
    "We can take more time with our hyperparameter tuning.  However, some of these models take so long to run, that it is not an effective us of my local machine.    \n",
    "\n",
    "There are many more sophisticated NLP modelling techniques we can use that than what is in this notebook.  For example, we can use Transformersm Recurrent Neural Networks, Transfer Learning, and Contextual Word Embeddings."
   ]
  },
  {
   "cell_type": "code",
   "execution_count": null,
   "metadata": {},
   "outputs": [],
   "source": []
  }
 ],
 "metadata": {
  "kernelspec": {
   "display_name": "Python (learn-env)",
   "language": "python",
   "name": "learn-env"
  },
  "language_info": {
   "codemirror_mode": {
    "name": "ipython",
    "version": 3
   },
   "file_extension": ".py",
   "mimetype": "text/x-python",
   "name": "python",
   "nbconvert_exporter": "python",
   "pygments_lexer": "ipython3",
   "version": "3.8.5"
  }
 },
 "nbformat": 4,
 "nbformat_minor": 4
}
